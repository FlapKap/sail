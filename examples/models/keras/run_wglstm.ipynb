{
 "cells": [
  {
   "cell_type": "markdown",
   "metadata": {},
   "source": [
    "### Import essential libraries"
   ]
  },
  {
   "cell_type": "code",
   "execution_count": 1,
   "metadata": {},
   "outputs": [
    {
     "name": "stderr",
     "output_type": "stream",
     "text": [
      "/Users/dhaval/.pyenv/versions/3.8.12/envs/venv-sail/lib/python3.8/site-packages/keras/optimizer_v2/gradient_descent.py:102: UserWarning: The `lr` argument is deprecated, use `learning_rate` instead.\n",
      "  super(SGD, self).__init__(name, **kwargs)\n"
     ]
    }
   ],
   "source": [
    "import pandas as pd\n",
    "from sail.models.keras import WGLSTM\n",
    "from sail.utils.ts_utils import generate_features_and_targets\n",
    "from sail.visualisation.ts_plot import plot_series"
   ]
  },
  {
   "cell_type": "markdown",
   "metadata": {},
   "source": [
    "### Import time-series dataset"
   ]
  },
  {
   "cell_type": "code",
   "execution_count": 2,
   "metadata": {},
   "outputs": [
    {
     "data": {
      "text/html": [
       "<div>\n",
       "<style scoped>\n",
       "    .dataframe tbody tr th:only-of-type {\n",
       "        vertical-align: middle;\n",
       "    }\n",
       "\n",
       "    .dataframe tbody tr th {\n",
       "        vertical-align: top;\n",
       "    }\n",
       "\n",
       "    .dataframe thead th {\n",
       "        text-align: right;\n",
       "    }\n",
       "</style>\n",
       "<table border=\"1\" class=\"dataframe\">\n",
       "  <thead>\n",
       "    <tr style=\"text-align: right;\">\n",
       "      <th></th>\n",
       "      <th>Date</th>\n",
       "      <th>Time</th>\n",
       "      <th>Global_active_power</th>\n",
       "      <th>Global_reactive_power</th>\n",
       "      <th>Voltage</th>\n",
       "      <th>Global_intensity</th>\n",
       "      <th>Sub_metering_1</th>\n",
       "      <th>Sub_metering_2</th>\n",
       "      <th>Sub_metering_3</th>\n",
       "    </tr>\n",
       "  </thead>\n",
       "  <tbody>\n",
       "    <tr>\n",
       "      <th>600</th>\n",
       "      <td>19/12/2006</td>\n",
       "      <td>22:04:00</td>\n",
       "      <td>1.012</td>\n",
       "      <td>0.094</td>\n",
       "      <td>239.75</td>\n",
       "      <td>4.2</td>\n",
       "      <td>0.0</td>\n",
       "      <td>0.0</td>\n",
       "      <td>0.0</td>\n",
       "    </tr>\n",
       "    <tr>\n",
       "      <th>601</th>\n",
       "      <td>19/12/2006</td>\n",
       "      <td>22:05:00</td>\n",
       "      <td>0.994</td>\n",
       "      <td>0.000</td>\n",
       "      <td>240.08</td>\n",
       "      <td>4.0</td>\n",
       "      <td>0.0</td>\n",
       "      <td>0.0</td>\n",
       "      <td>0.0</td>\n",
       "    </tr>\n",
       "    <tr>\n",
       "      <th>602</th>\n",
       "      <td>19/12/2006</td>\n",
       "      <td>22:06:00</td>\n",
       "      <td>0.988</td>\n",
       "      <td>0.000</td>\n",
       "      <td>240.91</td>\n",
       "      <td>4.0</td>\n",
       "      <td>0.0</td>\n",
       "      <td>1.0</td>\n",
       "      <td>0.0</td>\n",
       "    </tr>\n",
       "    <tr>\n",
       "      <th>603</th>\n",
       "      <td>19/12/2006</td>\n",
       "      <td>22:07:00</td>\n",
       "      <td>0.970</td>\n",
       "      <td>0.000</td>\n",
       "      <td>240.93</td>\n",
       "      <td>4.0</td>\n",
       "      <td>0.0</td>\n",
       "      <td>0.0</td>\n",
       "      <td>0.0</td>\n",
       "    </tr>\n",
       "    <tr>\n",
       "      <th>604</th>\n",
       "      <td>19/12/2006</td>\n",
       "      <td>22:08:00</td>\n",
       "      <td>1.102</td>\n",
       "      <td>0.000</td>\n",
       "      <td>242.24</td>\n",
       "      <td>4.4</td>\n",
       "      <td>0.0</td>\n",
       "      <td>0.0</td>\n",
       "      <td>0.0</td>\n",
       "    </tr>\n",
       "  </tbody>\n",
       "</table>\n",
       "</div>"
      ],
      "text/plain": [
       "           Date      Time  Global_active_power  Global_reactive_power  \\\n",
       "600  19/12/2006  22:04:00                1.012                  0.094   \n",
       "601  19/12/2006  22:05:00                0.994                  0.000   \n",
       "602  19/12/2006  22:06:00                0.988                  0.000   \n",
       "603  19/12/2006  22:07:00                0.970                  0.000   \n",
       "604  19/12/2006  22:08:00                1.102                  0.000   \n",
       "\n",
       "     Voltage  Global_intensity  Sub_metering_1  Sub_metering_2  Sub_metering_3  \n",
       "600   239.75               4.2             0.0             0.0             0.0  \n",
       "601   240.08               4.0             0.0             0.0             0.0  \n",
       "602   240.91               4.0             0.0             1.0             0.0  \n",
       "603   240.93               4.0             0.0             0.0             0.0  \n",
       "604   242.24               4.4             0.0             0.0             0.0  "
      ]
     },
     "execution_count": 2,
     "metadata": {},
     "output_type": "execute_result"
    }
   ],
   "source": [
    "df = pd.read_csv(\n",
    "    \"../../datasets/household_power_consumption.csv\",\n",
    "    sep=\",\",\n",
    ")[600:1500]\n",
    "\n",
    "df.head()"
   ]
  },
  {
   "cell_type": "markdown",
   "metadata": {},
   "source": [
    "#### Generate features and targets with a lag of 1"
   ]
  },
  {
   "cell_type": "code",
   "execution_count": 3,
   "metadata": {},
   "outputs": [],
   "source": [
    "X, y = generate_features_and_targets(df, \"Global_active_power\")"
   ]
  },
  {
   "cell_type": "markdown",
   "metadata": {},
   "source": [
    "#### Create model and call partial_fit() on features and targets."
   ]
  },
  {
   "cell_type": "code",
   "execution_count": 4,
   "metadata": {},
   "outputs": [
    {
     "name": "stderr",
     "output_type": "stream",
     "text": [
      "2022-05-05 20:00:52.427443: I tensorflow/core/platform/cpu_feature_guard.cc:151] This TensorFlow binary is optimized with oneAPI Deep Neural Network Library (oneDNN) to use the following CPU instructions in performance-critical operations:  AVX2 AVX512F FMA\n",
      "To enable them in other operations, rebuild TensorFlow with the appropriate compiler flags.\n"
     ]
    },
    {
     "name": "stdout",
     "output_type": "stream",
     "text": [
      "suspicous points at  41 :  1.0 0.14800000000000002 1 1.4400000000000004 2.0555555555555554\n",
      "suspicous points at  270 :  0.35212156712978504 0.906 1 0.8680000000000005 20.875576036866345\n",
      "suspicous points at  271 :  0.7707921409481482 0.22799999999999998 2 0.8320000000000005 5.206730769230766\n",
      "suspicous points at  272 :  1.0 0.04800000000000004 3 0.7920000000000005 1.0909090909090913\n",
      "suspicous points at  273 :  1.0 0.03200000000000003 4 0.7520000000000004 0.7234042553191491\n",
      "suspicous points at  274 :  1.0 0.016000000000000014 5 0.7120000000000004 0.3595505617977529\n",
      "suspicous points at  275 :  1.0 0.08400000000000007 6 0.6760000000000004 1.8639053254437876\n",
      "suspicous points at  276 :  1.0 0.020000000000000018 7 0.6400000000000003 0.4375000000000001\n",
      "suspicous points at  277 :  1.0 0.026000000000000023 8 0.6040000000000003 0.5596026490066227\n",
      "suspicous points at  278 :  1.0 0.02200000000000002 9 0.5680000000000003 0.46478873239436636\n",
      "suspicous points at  279 :  1.0 0.018000000000000016 10 0.5320000000000003 0.3721804511278197\n",
      "suspicous points at  280 :  1.0 0.01200000000000001 11 0.49200000000000016 0.24390243902439038\n",
      "suspicous points at  281 :  1.0 0.02400000000000002 12 0.4520000000000001 0.47787610619469056\n",
      "suspicous points at  282 :  1.0 0.020000000000000018 13 0.4200000000000001 0.3809523809523812\n",
      "suspicous points at  283 :  1.0 0.018000000000000016 14 0.38000000000000006 0.3315789473684213\n",
      "suspicous points at  284 :  1.0 0.020000000000000018 15 0.31200000000000006 0.38461538461538486\n",
      "suspicous points at  285 :  1.0 0.026000000000000023 16 0.2320000000000001 0.5603448275862072\n",
      "suspicous points at  286 :  1.0 0.01200000000000001 17 0.20000000000000007 0.24000000000000013\n",
      "suspicous points at  551 :  0.0640669859858217 3.792 1 1.3800000000000001 54.95652173913043\n",
      "suspicous points at  552 :  1.0 0.11000000000000032 2 1.372 1.5233236151603542\n",
      "suspicous points at  554 :  0.30991592776873916 2.9 3 2.228 23.42908438061041\n",
      "suspicous points at  555 :  0.7132953474930467 0.8839999999999999 4 2.224 6.757194244604315\n",
      "suspicous points at  580 :  0.41879641073830365 0.8460000000000001 1 0.9719999999999995 17.40740740740742\n",
      "suspicous points at  581 :  0.5670552268197946 0.504 2 0.8439999999999994 11.34597156398105\n",
      "suspicous points at  582 :  1.0 0.006000000000000227 3 0.8239999999999994 0.13106796116505362\n",
      "suspicous points at  583 :  1.0 0.04400000000000004 4 0.5679999999999996 1.3169014084507065\n",
      "suspicous points at  584 :  1.0 0.03200000000000003 5 0.5599999999999996 0.9142857142857157\n",
      "suspicous points at  585 :  1.0 0.04800000000000004 6 0.5559999999999996 1.2949640287769804\n",
      "suspicous points at  586 :  1.0 0.009999999999999787 7 0.5439999999999996 0.2573529411764653\n",
      "suspicous points at  587 :  1.0 0.008000000000000007 8 0.5399999999999996 0.1925925925925929\n",
      "suspicous points at  588 :  1.0 0.02200000000000024 9 0.5239999999999996 0.5038167938931357\n",
      "suspicous points at  589 :  1.0 0.03200000000000003 10 0.5199999999999996 0.6769230769230781\n",
      "suspicous points at  590 :  1.0 0.04999999999999982 11 0.49199999999999955 1.0162601626016234\n",
      "suspicous points at  591 :  1.0 0.010000000000000231 12 0.42799999999999994 0.2102803738317806\n",
      "suspicous points at  592 :  0.7215772849379724 0.31000000000000005 13 0.3799999999999999 6.526315789473687\n",
      "suspicous points at  593 :  1.0 0.21799999999999997 14 0.3679999999999999 4.146739130434783\n",
      "suspicous points at  594 :  1.0 0.06799999999999962 15 0.32399999999999984 1.2592592592592529\n",
      "suspicous points at  595 :  1.0 0.1479999999999997 16 0.20000000000000018 3.699999999999989\n",
      "suspicous points at  596 :  0.6567786921632738 0.4119999999999999 17 0.19600000000000017 8.408163265306113\n",
      "suspicous points at  597 :  0.25837756506849313 1.6240000000000006 18 0.18000000000000016 27.066666666666652\n",
      "suspicous points at  598 :  0.7564871232025198 0.47999999999999954 19 0.17200000000000015 5.581395348837199\n",
      "suspicous points at  599 :  0.0 0.24600000000000044 20 0.0 inf\n",
      "suspicous points at  600 :  1.0 0.08199999999999985 20 0.0 inf\n"
     ]
    },
    {
     "name": "stderr",
     "output_type": "stream",
     "text": [
      "/Users/dhaval/Projects/sail/sail/models/keras/wglstm.py:281: RuntimeWarning: divide by zero encountered in double_scalars\n",
      "  r2 = 1.0 * sum(suspDiff) * len(normDiff) / sum(normDiff) / len(suspDiff)\n",
      "/Users/dhaval/Projects/sail/sail/models/keras/wglstm.py:286: RuntimeWarning: divide by zero encountered in double_scalars\n",
      "  tmpr = pnt_diff * 1.0 / (sum(normDiff) / len(normDiff))\n",
      "/Users/dhaval/Projects/sail/sail/models/keras/wglstm.py:110: RuntimeWarning: divide by zero encountered in double_scalars\n",
      "  testval = point_diff * 1.0 / (sum(norm_diff) / len(norm_diff))\n"
     ]
    },
    {
     "name": "stdout",
     "output_type": "stream",
     "text": [
      "suspicous points at  601 :  1.0 0.014000000000000234 20 0.0 inf\n",
      "suspicous points at  602 :  1.0 0.06400000000000006 20 0.0 inf\n",
      "suspicous points at  603 :  1.0 0.15600000000000058 20 0.0 inf\n",
      "suspicous points at  604 :  1.0 0.04999999999999982 20 0.0 inf\n",
      "suspicous points at  605 :  1.0 0.040000000000000036 20 0.0 inf\n",
      "suspicous points at  606 :  1.0 0.0019999999999997797 20 0.0 inf\n",
      "suspicous points at  612 :  1.0 2.6300000000000003 15 3.620000000000001 3.6325966850828726\n",
      "suspicous points at  613 :  1.0 0.1759999999999997 15 3.620000000000001 0.24309392265193325\n",
      "suspicous points at  614 :  1.0 0.28000000000000025 15 3.620000000000001 0.38674033149171294\n",
      "suspicous points at  615 :  1.0 0.31000000000000005 15 3.620000000000001 0.42817679558011046\n",
      "suspicous points at  616 :  1.0 0.08599999999999985 15 3.620000000000001 0.1187845303867401\n",
      "suspicous points at  770 :  0.15905653479347379 1.662 1 0.9040000000000004 36.76991150442476\n",
      "suspicous points at  771 :  1.0 0.09600000000000009 2 0.7880000000000003 2.3147208121827423\n",
      "suspicous points at  772 :  0.7402145388838062 0.246 3 0.7360000000000002 6.016304347826085\n",
      "suspicous points at  773 :  0.6418001857605751 0.3839999999999999 4 0.7360000000000002 8.8695652173913\n",
      "suspicous points at  775 :  1.0 0.5720000000000001 5 3.496 2.6178489702517167\n",
      "suspicous points at  776 :  1.0 0.08400000000000007 6 3.48 0.36206896551724166\n",
      "suspicous points at  777 :  1.0 1.2179999999999995 7 3.48 4.899999999999998\n",
      "suspicous points at  778 :  1.0 0.7359999999999998 8 3.468 2.7589388696655126\n",
      "Normalised MSE:  0.5811124116946759\n"
     ]
    },
    {
     "data": {
      "text/plain": [
       "WGLSTM(\n",
       "\tmodel=<sail.models.keras.wglstm._Model object at 0x131c2b160>\n",
       "\tbuild_fn=None\n",
       "\twarm_start=False\n",
       "\trandom_state=None\n",
       "\toptimizer=<keras.optimizer_v2.gradient_descent.SGD object at 0x130bbeca0>\n",
       "\tloss=mse\n",
       "\tmetrics=None\n",
       "\tbatch_size=None\n",
       "\tvalidation_batch_size=None\n",
       "\tverbose=1\n",
       "\tcallbacks=None\n",
       "\tvalidation_split=0.0\n",
       "\tshuffle=True\n",
       "\trun_eagerly=False\n",
       "\tepochs=1\n",
       ")"
      ]
     },
     "execution_count": 4,
     "metadata": {},
     "output_type": "execute_result"
    }
   ],
   "source": [
    "num_of_features = 1\n",
    "timesteps = 1\n",
    "window_size = 20\n",
    "\n",
    "model = WGLSTM(\n",
    "    loss=\"mse\",\n",
    "    epochs=1,\n",
    "    verbose=1,\n",
    "    num_of_features=num_of_features,\n",
    "    hidden_layer_neurons=450,\n",
    "    hidden_layer_activation=\"linear\",\n",
    "    regularization_factor=0.0001,\n",
    "    timesteps=timesteps,\n",
    "    window_size=window_size,\n",
    ")\n",
    "\n",
    "model.partial_fit(X, y)"
   ]
  },
  {
   "cell_type": "markdown",
   "metadata": {},
   "source": [
    "#### Create test dataset and call predict on the trained model."
   ]
  },
  {
   "cell_type": "code",
   "execution_count": 5,
   "metadata": {},
   "outputs": [
    {
     "name": "stderr",
     "output_type": "stream",
     "text": [
      "/var/folders/p_/rdt928015ggfw5jzyg1qnj6m0000gn/T/ipykernel_92361/1106846581.py:1: DtypeWarning: Columns (2,3,4,5,6,7) have mixed types. Specify dtype option on import or set low_memory=False.\n",
      "  df_test = pd.read_csv(\n"
     ]
    }
   ],
   "source": [
    "df_test = pd.read_csv(\n",
    "    \"/Users/dhaval/Projects/onlineLearning/data/household_power_consumption.txt\",\n",
    "    sep=\",\",\n",
    ")[6000:6500]\n",
    "\n",
    "X_test, y_test = generate_features_and_targets(df_test, \"Global_active_power\")"
   ]
  },
  {
   "cell_type": "markdown",
   "metadata": {},
   "source": [
    "#### Make Prediction"
   ]
  },
  {
   "cell_type": "code",
   "execution_count": 6,
   "metadata": {},
   "outputs": [
    {
     "name": "stdout",
     "output_type": "stream",
     "text": [
      "499/499 [==============================] - 1s 1ms/step\n"
     ]
    }
   ],
   "source": [
    "y_pred = model.predict(X_test, batch_size=1)"
   ]
  },
  {
   "cell_type": "markdown",
   "metadata": {},
   "source": [
    "#### Plot predicted values"
   ]
  },
  {
   "cell_type": "code",
   "execution_count": 7,
   "metadata": {},
   "outputs": [
    {
     "data": {
      "image/png": "[encoded data removed]",
      "text/plain": [
       "<Figure size 1108.8x504 with 1 Axes>"
      ]
     },
     "metadata": {
      "needs_background": "light"
     },
     "output_type": "display_data"
    }
   ],
   "source": [
    "y_pred = y_pred.flatten().flatten()[:-1]\n",
    "y_orig = y_test.flatten().flatten()[1:]\n",
    "\n",
    "plot_series(y_orig, y_pred, ybound=[0, 6], plot_title=\"Online Prediction by WGSLTM on House Power\")"
   ]
  }
 ],
 "metadata": {
  "interpreter": {
   "hash": "9be19e0899725a0e0937c8794c08186e8a5748fbd5189ee9c3e1b2052a010ac6"
  },
  "kernelspec": {
   "display_name": "Python 3.8.12 64-bit ('venv-sail-2')",
   "language": "python",
   "name": "python3"
  },
  "language_info": {
   "codemirror_mode": {
    "name": "ipython",
    "version": 3
   },
   "file_extension": ".py",
   "mimetype": "text/x-python",
   "name": "python",
   "nbconvert_exporter": "python",
   "pygments_lexer": "ipython3",
   "version": "3.8.12"
  },
  "orig_nbformat": 4
 },
 "nbformat": 4,
 "nbformat_minor": 2
}
