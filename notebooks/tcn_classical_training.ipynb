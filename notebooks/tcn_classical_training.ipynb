{
 "cells": [
  {
   "cell_type": "code",
   "execution_count": null,
   "id": "9c30f29e-3a16-4698-8698-61f48b94a836",
   "metadata": {},
   "outputs": [],
   "source": [
    "from array import array\n",
    "from sail.models.torch.tcn import TCNModel\n",
    "import numpy as np\n",
    "import torch\n",
    "from sklearn.datasets import make_regression\n",
    "from sklearn.preprocessing import StandardScaler\n",
    "from sklearn.model_selection import train_test_split\n",
    "from torch.utils.data import DataLoader"
   ]
  },
  {
   "cell_type": "code",
   "execution_count": null,
   "id": "61d570f5-e77e-44d9-b5a7-4a9137dad2f1",
   "metadata": {},
   "outputs": [],
   "source": [
    "def regression_data(n_samples, n_features):\n",
    "    X, y = make_regression(n_samples, n_features, n_informative=10, bias=0, random_state=0)\n",
    "    X, y = X.astype(np.float32), y.astype(np.float32).reshape(-1, 1)\n",
    "    Xt = StandardScaler().fit_transform(X)\n",
    "    yt = StandardScaler().fit_transform(y)\n",
    "    return Xt, yt"
   ]
  },
  {
   "cell_type": "code",
   "execution_count": null,
   "id": "61680512-3b51-42d6-982b-47b80d0c0be6",
   "metadata": {},
   "outputs": [],
   "source": [
    "class Dataset():\n",
    "    \n",
    "    def __init__(self, x, y):\n",
    "        self.x, self.y = x, y\n",
    "    \n",
    "    def __len__(self):\n",
    "        return self.x.shape[0]\n",
    "    \n",
    "    def __getitem__(self, i):\n",
    "        return torch.from_numpy(self.x[i]), torch.from_numpy(self.y[i])"
   ]
  },
  {
   "cell_type": "code",
   "execution_count": null,
   "id": "fa6fc9b6-ee4f-482a-b427-c36a4b2a55b5",
   "metadata": {},
   "outputs": [],
   "source": [
    "n_samples = 6000\n",
    "n_features = 10\n",
    "batch_size = 64"
   ]
  },
  {
   "cell_type": "code",
   "execution_count": null,
   "id": "2c982649-1ae6-4f07-b895-3fc22895af5f",
   "metadata": {},
   "outputs": [],
   "source": [
    "model = TCNModel(input_dim=n_features, output_dim=1)\n",
    "loss_fn = torch.nn.MSELoss()\n",
    "optimizer = torch.optim.Adam(model.parameters(), lr=0.001)"
   ]
  },
  {
   "cell_type": "code",
   "execution_count": null,
   "id": "a2791d68-f249-4bb8-8df4-cf24ef06f3c7",
   "metadata": {},
   "outputs": [],
   "source": [
    "X, y = regression_data(n_samples, n_features)\n",
    "X_train, X_test, y_train, y_test = train_test_split(X, y, test_size=0.33, random_state=42)"
   ]
  },
  {
   "cell_type": "code",
   "execution_count": null,
   "id": "96534d68-2930-4032-b412-37795ace19f7",
   "metadata": {},
   "outputs": [],
   "source": [
    "train_ds = Dataset(X_train, y_train)\n",
    "test_ds = Dataset(X_test, y_test)\n",
    "\n",
    "train_dl = DataLoader(train_ds, batch_size)\n",
    "test_dl = DataLoader(test_ds, batch_size)"
   ]
  },
  {
   "cell_type": "code",
   "execution_count": null,
   "id": "1d0d2b49-3c85-46ab-8275-1f410e2930de",
   "metadata": {},
   "outputs": [],
   "source": [
    "for epoch in range(100):\n",
    "    model.train()\n",
    "    for xb,yb in train_dl:\n",
    "        yb_pred = model(xb)\n",
    "        loss = loss_fn(yb_pred, yb)\n",
    "        loss.backward()\n",
    "        optimizer.step()\n",
    "        optimizer.zero_grad()\n",
    "        \n",
    "    model.eval()\n",
    "    with torch.no_grad():\n",
    "        loss, acc, n = 0., 0., 0.\n",
    "        for xb, yb in test_dl:\n",
    "            yb_pred = model(xb)\n",
    "            loss += loss_fn(yb_pred, yb)\n",
    "            n += len(xb)\n",
    "        loss = loss/n * 100\n",
    "    print(f\"EPOCH#:{epoch} \\t Loss: {loss:.4f}\")"
   ]
  },
  {
   "cell_type": "code",
   "execution_count": null,
   "id": "6b0f25f9-d59a-47e8-84e3-36f2c5bfe038",
   "metadata": {},
   "outputs": [],
   "source": []
  }
 ],
 "metadata": {
  "kernelspec": {
   "display_name": "Python 3 (ipykernel)",
   "language": "python",
   "name": "python3"
  },
  "language_info": {
   "codemirror_mode": {
    "name": "ipython",
    "version": 3
   },
   "file_extension": ".py",
   "mimetype": "text/x-python",
   "name": "python",
   "nbconvert_exporter": "python",
   "pygments_lexer": "ipython3",
   "version": "3.8.13"
  }
 },
 "nbformat": 4,
 "nbformat_minor": 5
}
