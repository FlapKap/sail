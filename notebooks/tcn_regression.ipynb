{
 "cells": [
  {
   "cell_type": "code",
   "execution_count": 1,
   "id": "62a0669e-3e1a-47a8-843e-bfe374f2379a",
   "metadata": {},
   "outputs": [
    {
     "name": "stderr",
     "output_type": "stream",
     "text": [
      "/Users/mehkj/miniconda3_i386/envs/imla/lib/python3.8/site-packages/tqdm/auto.py:22: TqdmWarning: IProgress not found. Please update jupyter and ipywidgets. See https://ipywidgets.readthedocs.io/en/stable/user_install.html\n",
      "  from .autonotebook import tqdm as notebook_tqdm\n"
     ]
    }
   ],
   "source": [
    "from sklearn.preprocessing import StandardScaler\n",
    "from sail.models.torch.tcn import TCNRegressor\n",
    "import numpy as np\n",
    "import torch\n",
    "from sklearn.datasets import make_regression"
   ]
  },
  {
   "cell_type": "code",
   "execution_count": 2,
   "id": "e6030c8e-7f4c-4c1f-998d-a5a03a8dbc97",
   "metadata": {},
   "outputs": [],
   "source": [
    "def regression_data(n_samples, n_features):\n",
    "    X, y = make_regression(n_samples, n_features, n_informative=10, bias=0, random_state=0)\n",
    "    X, y = X.astype(np.float32), y.astype(np.float32).reshape(-1, 1)\n",
    "    Xt = StandardScaler().fit_transform(X)\n",
    "    yt = StandardScaler().fit_transform(y)\n",
    "    return Xt, yt"
   ]
  },
  {
   "cell_type": "code",
   "execution_count": 12,
   "id": "ade77e0e-8628-4902-8068-fcd62ca34fbc",
   "metadata": {},
   "outputs": [
    {
     "name": "stdout",
     "output_type": "stream",
     "text": [
      "  epoch    train_loss     dur\n",
      "-------  ------------  ------\n",
      "      1        \u001b[36m1.3099\u001b[0m  0.0154\n",
      "      2        \u001b[36m1.0817\u001b[0m  0.0140\n",
      "      3        \u001b[36m0.9499\u001b[0m  0.0122\n",
      "      4        \u001b[36m0.7697\u001b[0m  0.0122\n",
      "      5        \u001b[36m0.6616\u001b[0m  0.0119\n",
      "      6        \u001b[36m0.5733\u001b[0m  0.0118\n",
      "      7        \u001b[36m0.4957\u001b[0m  0.0107\n",
      "      8        \u001b[36m0.4323\u001b[0m  0.0112\n",
      "      9        \u001b[36m0.3600\u001b[0m  0.0119\n",
      "     10        \u001b[36m0.2895\u001b[0m  0.0120\n"
     ]
    }
   ],
   "source": [
    "n_samples = 100\n",
    "n_features = 12\n",
    "X, y = regression_data(n_samples, n_features)\n",
    "X = X[:, :, np.newaxis]\n",
    "learner_tcn = TCNRegressor(n_features, 1)\n",
    "for _ in range(10):\n",
    "    learner_tcn.partial_fit(X, y)\n",
    "train_losses = learner_tcn.history[:, \"train_loss\"]"
   ]
  },
  {
   "cell_type": "code",
   "execution_count": 13,
   "id": "398a53b9-30e0-47df-b954-aa8746285877",
   "metadata": {},
   "outputs": [],
   "source": [
    "y_prediction = learner_tcn.predict(X)"
   ]
  },
  {
   "cell_type": "code",
   "execution_count": 14,
   "id": "8262bc28-e901-4a71-910d-c4b0fea6b172",
   "metadata": {},
   "outputs": [
    {
     "data": {
      "application/vnd.plotly.v1+json": {
       "config": {
        "plotlyServerURL": "https://plot.ly"
       },
       "data": [
        {
         "line": {
          "color": "red",
          "width": 2
         },
         "name": "predicted",
         "type": "scatter",
         "x": [
          0,
          1,
          2,
          3,
          4,
          5,
          6,
          7,
          8,
          9,
          10,
          11,
          12,
          13,
          14,
          15,
          16,
          17,
          18,
          19,
          20,
          21,
          22,
          23,
          24,
          25,
          26,
          27,
          28,
          29,
          30,
          31,
          32,
          33,
          34,
          35,
          36,
          37,
          38,
          39,
          40,
          41,
          42,
          43,
          44,
          45,
          46,
          47,
          48,
          49,
          50,
          51,
          52,
          53,
          54,
          55,
          56,
          57,
          58,
          59,
          60,
          61,
          62,
          63,
          64,
          65,
          66,
          67,
          68,
          69,
          70,
          71,
          72,
          73,
          74,
          75,
          76,
          77,
          78,
          79,
          80,
          81,
          82,
          83,
          84,
          85,
          86,
          87,
          88,
          89,
          90,
          91,
          92,
          93,
          94,
          95,
          96,
          97,
          98,
          99
         ],
         "y": [
          0.292203813791275,
          -0.32122528553009033,
          0.1463146060705185,
          -0.6271626949310303,
          0.34119030833244324,
          0.6047602891921997,
          -0.428952693939209,
          -0.16314107179641724,
          1.193057656288147,
          0.37476322054862976,
          -0.19157154858112335,
          -1.5067574977874756,
          -0.9606260061264038,
          0.9664477705955505,
          0.11615307629108429,
          -1.2019494771957397,
          0.19787758588790894,
          1.1963168382644653,
          0.2375783920288086,
          0.49714815616607666,
          0.9621319770812988,
          -0.7007389068603516,
          -0.3796091079711914,
          1.0907872915267944,
          0.19783738255500793,
          -0.8399792909622192,
          0.5189871788024902,
          -0.3818371295928955,
          -0.12511003017425537,
          -0.8192170262336731,
          0.17396648228168488,
          0.04727156460285187,
          -0.618288516998291,
          0.5161657929420471,
          -0.2473623901605606,
          -0.17457376420497894,
          -0.7307813763618469,
          0.5283711552619934,
          -0.3322131931781769,
          0.058389097452163696,
          -1.0299361944198608,
          0.4702833890914917,
          -1.0914769172668457,
          -0.522062361240387,
          0.22321127355098724,
          -0.5290977358818054,
          0.8245271444320679,
          0.05032944679260254,
          -0.8545973300933838,
          -0.2180134356021881,
          0.2583615183830261,
          -0.33226722478866577,
          -1.0205645561218262,
          0.4708086848258972,
          -0.8661691546440125,
          1.0698455572128296,
          -0.6209341287612915,
          -0.519474983215332,
          -0.012884527444839478,
          0.45788097381591797,
          0.26984792947769165,
          0.18093419075012207,
          0.48672717809677124,
          -0.9329018592834473,
          -0.10147285461425781,
          0.4789406359195709,
          1.2262616157531738,
          -0.57292640209198,
          -0.3161574602127075,
          0.788436770439148,
          -0.3986734449863434,
          -0.23846544325351715,
          -0.07902483642101288,
          0.48591428995132446,
          0.7903190851211548,
          0.04054458439350128,
          -0.01156163215637207,
          0.970194935798645,
          0.8121349811553955,
          0.253598690032959,
          -0.22137941420078278,
          -0.28542059659957886,
          0.06482653319835663,
          1.3357704877853394,
          0.38746726512908936,
          0.022961199283599854,
          -0.7329790592193604,
          0.1529945284128189,
          0.558463454246521,
          0.7662920355796814,
          0.5050578117370605,
          0.517844557762146,
          -0.18163183331489563,
          0.08013533055782318,
          0.29914116859436035,
          -0.0008278191089630127,
          0.2506306767463684,
          0.5608806610107422,
          -0.6088685393333435,
          0.0819161981344223
         ]
        },
        {
         "line": {
          "color": "blue",
          "width": 2
         },
         "name": "actual",
         "type": "scatter",
         "x": [
          0,
          1,
          2,
          3,
          4,
          5,
          6,
          7,
          8,
          9,
          10,
          11,
          12,
          13,
          14,
          15,
          16,
          17,
          18,
          19,
          20,
          21,
          22,
          23,
          24,
          25,
          26,
          27,
          28,
          29,
          30,
          31,
          32,
          33,
          34,
          35,
          36,
          37,
          38,
          39,
          40,
          41,
          42,
          43,
          44,
          45,
          46,
          47,
          48,
          49,
          50,
          51,
          52,
          53,
          54,
          55,
          56,
          57,
          58,
          59,
          60,
          61,
          62,
          63,
          64,
          65,
          66,
          67,
          68,
          69,
          70,
          71,
          72,
          73,
          74,
          75,
          76,
          77,
          78,
          79,
          80,
          81,
          82,
          83,
          84,
          85,
          86,
          87,
          88,
          89,
          90,
          91,
          92,
          93,
          94,
          95,
          96,
          97,
          98,
          99
         ],
         "y": [
          -0.04408887401223183,
          -0.8406591415405273,
          0.5337193608283997,
          -0.8894971013069153,
          0.520833432674408,
          1.299200415611267,
          -0.2203446477651596,
          -0.5443602800369263,
          1.6795709133148193,
          -0.3999648094177246,
          -1.028537631034851,
          -2.2817554473876953,
          -1.821028232574463,
          1.0968925952911377,
          -0.4323994219303131,
          -1.446461796760559,
          -0.6001780033111572,
          1.6608004570007324,
          0.35686230659484863,
          0.38402262330055237,
          1.837217926979065,
          -1.4008090496063232,
          -0.10160787403583527,
          0.9903016090393066,
          -0.12909314036369324,
          -1.322331428527832,
          1.282779574394226,
          -0.6641889214515686,
          -0.03925333544611931,
          -0.799105167388916,
          0.8381888270378113,
          -0.15599603950977325,
          -0.7558496594429016,
          1.1103794574737549,
          -0.5731637477874756,
          -0.7509015202522278,
          -1.4980432987213135,
          0.7515445351600647,
          -0.5225768685340881,
          -0.8275917768478394,
          -1.412887454032898,
          0.4178376793861389,
          -1.9939491748809814,
          -0.43945538997650146,
          0.2442144751548767,
          -1.4624848365783691,
          1.0877704620361328,
          0.6458169221878052,
          -1.1237379312515259,
          -0.5571531057357788,
          0.41886523365974426,
          -0.4316500425338745,
          -1.2765353918075562,
          0.3775158226490021,
          -1.4903279542922974,
          1.564905047416687,
          -0.8653993606567383,
          -1.0941011905670166,
          -0.32613974809646606,
          1.0873254537582397,
          0.2325947880744934,
          0.6946486234664917,
          1.880933403968811,
          -1.2705847024917603,
          -0.5171356201171875,
          1.2544676065444946,
          2.040984630584717,
          -1.1570487022399902,
          -0.8262560963630676,
          1.8620836734771729,
          -1.1781412363052368,
          -0.5828617811203003,
          0.4574493169784546,
          0.82857346534729,
          0.8834123611450195,
          -0.007991536520421505,
          0.10265868902206421,
          1.220696210861206,
          0.805946946144104,
          -0.017238574102520943,
          -0.6982598304748535,
          -0.09161529690027237,
          0.7280053496360779,
          2.3942174911499023,
          0.17574164271354675,
          0.8495898246765137,
          -1.0071930885314941,
          0.12563826143741608,
          0.6521000862121582,
          1.1586360931396484,
          0.9584715962409973,
          0.6253862380981445,
          0.1834374964237213,
          0.32216545939445496,
          0.0381920300424099,
          -0.9343141913414001,
          0.6636557579040527,
          0.5477631092071533,
          -0.7119332551956177,
          -0.3098326027393341
         ]
        }
       ],
       "layout": {
        "autosize": true,
        "template": {
         "data": {
          "bar": [
           {
            "error_x": {
             "color": "#2a3f5f"
            },
            "error_y": {
             "color": "#2a3f5f"
            },
            "marker": {
             "line": {
              "color": "#E5ECF6",
              "width": 0.5
             },
             "pattern": {
              "fillmode": "overlay",
              "size": 10,
              "solidity": 0.2
             }
            },
            "type": "bar"
           }
          ],
          "barpolar": [
           {
            "marker": {
             "line": {
              "color": "#E5ECF6",
              "width": 0.5
             },
             "pattern": {
              "fillmode": "overlay",
              "size": 10,
              "solidity": 0.2
             }
            },
            "type": "barpolar"
           }
          ],
          "carpet": [
           {
            "aaxis": {
             "endlinecolor": "#2a3f5f",
             "gridcolor": "white",
             "linecolor": "white",
             "minorgridcolor": "white",
             "startlinecolor": "#2a3f5f"
            },
            "baxis": {
             "endlinecolor": "#2a3f5f",
             "gridcolor": "white",
             "linecolor": "white",
             "minorgridcolor": "white",
             "startlinecolor": "#2a3f5f"
            },
            "type": "carpet"
           }
          ],
          "choropleth": [
           {
            "colorbar": {
             "outlinewidth": 0,
             "ticks": ""
            },
            "type": "choropleth"
           }
          ],
          "contour": [
           {
            "colorbar": {
             "outlinewidth": 0,
             "ticks": ""
            },
            "colorscale": [
             [
              0,
              "#0d0887"
             ],
             [
              0.1111111111111111,
              "#46039f"
             ],
             [
              0.2222222222222222,
              "#7201a8"
             ],
             [
              0.3333333333333333,
              "#9c179e"
             ],
             [
              0.4444444444444444,
              "#bd3786"
             ],
             [
              0.5555555555555556,
              "#d8576b"
             ],
             [
              0.6666666666666666,
              "#ed7953"
             ],
             [
              0.7777777777777778,
              "#fb9f3a"
             ],
             [
              0.8888888888888888,
              "#fdca26"
             ],
             [
              1,
              "#f0f921"
             ]
            ],
            "type": "contour"
           }
          ],
          "contourcarpet": [
           {
            "colorbar": {
             "outlinewidth": 0,
             "ticks": ""
            },
            "type": "contourcarpet"
           }
          ],
          "heatmap": [
           {
            "colorbar": {
             "outlinewidth": 0,
             "ticks": ""
            },
            "colorscale": [
             [
              0,
              "#0d0887"
             ],
             [
              0.1111111111111111,
              "#46039f"
             ],
             [
              0.2222222222222222,
              "#7201a8"
             ],
             [
              0.3333333333333333,
              "#9c179e"
             ],
             [
              0.4444444444444444,
              "#bd3786"
             ],
             [
              0.5555555555555556,
              "#d8576b"
             ],
             [
              0.6666666666666666,
              "#ed7953"
             ],
             [
              0.7777777777777778,
              "#fb9f3a"
             ],
             [
              0.8888888888888888,
              "#fdca26"
             ],
             [
              1,
              "#f0f921"
             ]
            ],
            "type": "heatmap"
           }
          ],
          "heatmapgl": [
           {
            "colorbar": {
             "outlinewidth": 0,
             "ticks": ""
            },
            "colorscale": [
             [
              0,
              "#0d0887"
             ],
             [
              0.1111111111111111,
              "#46039f"
             ],
             [
              0.2222222222222222,
              "#7201a8"
             ],
             [
              0.3333333333333333,
              "#9c179e"
             ],
             [
              0.4444444444444444,
              "#bd3786"
             ],
             [
              0.5555555555555556,
              "#d8576b"
             ],
             [
              0.6666666666666666,
              "#ed7953"
             ],
             [
              0.7777777777777778,
              "#fb9f3a"
             ],
             [
              0.8888888888888888,
              "#fdca26"
             ],
             [
              1,
              "#f0f921"
             ]
            ],
            "type": "heatmapgl"
           }
          ],
          "histogram": [
           {
            "marker": {
             "pattern": {
              "fillmode": "overlay",
              "size": 10,
              "solidity": 0.2
             }
            },
            "type": "histogram"
           }
          ],
          "histogram2d": [
           {
            "colorbar": {
             "outlinewidth": 0,
             "ticks": ""
            },
            "colorscale": [
             [
              0,
              "#0d0887"
             ],
             [
              0.1111111111111111,
              "#46039f"
             ],
             [
              0.2222222222222222,
              "#7201a8"
             ],
             [
              0.3333333333333333,
              "#9c179e"
             ],
             [
              0.4444444444444444,
              "#bd3786"
             ],
             [
              0.5555555555555556,
              "#d8576b"
             ],
             [
              0.6666666666666666,
              "#ed7953"
             ],
             [
              0.7777777777777778,
              "#fb9f3a"
             ],
             [
              0.8888888888888888,
              "#fdca26"
             ],
             [
              1,
              "#f0f921"
             ]
            ],
            "type": "histogram2d"
           }
          ],
          "histogram2dcontour": [
           {
            "colorbar": {
             "outlinewidth": 0,
             "ticks": ""
            },
            "colorscale": [
             [
              0,
              "#0d0887"
             ],
             [
              0.1111111111111111,
              "#46039f"
             ],
             [
              0.2222222222222222,
              "#7201a8"
             ],
             [
              0.3333333333333333,
              "#9c179e"
             ],
             [
              0.4444444444444444,
              "#bd3786"
             ],
             [
              0.5555555555555556,
              "#d8576b"
             ],
             [
              0.6666666666666666,
              "#ed7953"
             ],
             [
              0.7777777777777778,
              "#fb9f3a"
             ],
             [
              0.8888888888888888,
              "#fdca26"
             ],
             [
              1,
              "#f0f921"
             ]
            ],
            "type": "histogram2dcontour"
           }
          ],
          "mesh3d": [
           {
            "colorbar": {
             "outlinewidth": 0,
             "ticks": ""
            },
            "type": "mesh3d"
           }
          ],
          "parcoords": [
           {
            "line": {
             "colorbar": {
              "outlinewidth": 0,
              "ticks": ""
             }
            },
            "type": "parcoords"
           }
          ],
          "pie": [
           {
            "automargin": true,
            "type": "pie"
           }
          ],
          "scatter": [
           {
            "fillpattern": {
             "fillmode": "overlay",
             "size": 10,
             "solidity": 0.2
            },
            "type": "scatter"
           }
          ],
          "scatter3d": [
           {
            "line": {
             "colorbar": {
              "outlinewidth": 0,
              "ticks": ""
             }
            },
            "marker": {
             "colorbar": {
              "outlinewidth": 0,
              "ticks": ""
             }
            },
            "type": "scatter3d"
           }
          ],
          "scattercarpet": [
           {
            "marker": {
             "colorbar": {
              "outlinewidth": 0,
              "ticks": ""
             }
            },
            "type": "scattercarpet"
           }
          ],
          "scattergeo": [
           {
            "marker": {
             "colorbar": {
              "outlinewidth": 0,
              "ticks": ""
             }
            },
            "type": "scattergeo"
           }
          ],
          "scattergl": [
           {
            "marker": {
             "colorbar": {
              "outlinewidth": 0,
              "ticks": ""
             }
            },
            "type": "scattergl"
           }
          ],
          "scattermapbox": [
           {
            "marker": {
             "colorbar": {
              "outlinewidth": 0,
              "ticks": ""
             }
            },
            "type": "scattermapbox"
           }
          ],
          "scatterpolar": [
           {
            "marker": {
             "colorbar": {
              "outlinewidth": 0,
              "ticks": ""
             }
            },
            "type": "scatterpolar"
           }
          ],
          "scatterpolargl": [
           {
            "marker": {
             "colorbar": {
              "outlinewidth": 0,
              "ticks": ""
             }
            },
            "type": "scatterpolargl"
           }
          ],
          "scatterternary": [
           {
            "marker": {
             "colorbar": {
              "outlinewidth": 0,
              "ticks": ""
             }
            },
            "type": "scatterternary"
           }
          ],
          "surface": [
           {
            "colorbar": {
             "outlinewidth": 0,
             "ticks": ""
            },
            "colorscale": [
             [
              0,
              "#0d0887"
             ],
             [
              0.1111111111111111,
              "#46039f"
             ],
             [
              0.2222222222222222,
              "#7201a8"
             ],
             [
              0.3333333333333333,
              "#9c179e"
             ],
             [
              0.4444444444444444,
              "#bd3786"
             ],
             [
              0.5555555555555556,
              "#d8576b"
             ],
             [
              0.6666666666666666,
              "#ed7953"
             ],
             [
              0.7777777777777778,
              "#fb9f3a"
             ],
             [
              0.8888888888888888,
              "#fdca26"
             ],
             [
              1,
              "#f0f921"
             ]
            ],
            "type": "surface"
           }
          ],
          "table": [
           {
            "cells": {
             "fill": {
              "color": "#EBF0F8"
             },
             "line": {
              "color": "white"
             }
            },
            "header": {
             "fill": {
              "color": "#C8D4E3"
             },
             "line": {
              "color": "white"
             }
            },
            "type": "table"
           }
          ]
         },
         "layout": {
          "annotationdefaults": {
           "arrowcolor": "#2a3f5f",
           "arrowhead": 0,
           "arrowwidth": 1
          },
          "autotypenumbers": "strict",
          "coloraxis": {
           "colorbar": {
            "outlinewidth": 0,
            "ticks": ""
           }
          },
          "colorscale": {
           "diverging": [
            [
             0,
             "#8e0152"
            ],
            [
             0.1,
             "#c51b7d"
            ],
            [
             0.2,
             "#de77ae"
            ],
            [
             0.3,
             "#f1b6da"
            ],
            [
             0.4,
             "#fde0ef"
            ],
            [
             0.5,
             "#f7f7f7"
            ],
            [
             0.6,
             "#e6f5d0"
            ],
            [
             0.7,
             "#b8e186"
            ],
            [
             0.8,
             "#7fbc41"
            ],
            [
             0.9,
             "#4d9221"
            ],
            [
             1,
             "#276419"
            ]
           ],
           "sequential": [
            [
             0,
             "#0d0887"
            ],
            [
             0.1111111111111111,
             "#46039f"
            ],
            [
             0.2222222222222222,
             "#7201a8"
            ],
            [
             0.3333333333333333,
             "#9c179e"
            ],
            [
             0.4444444444444444,
             "#bd3786"
            ],
            [
             0.5555555555555556,
             "#d8576b"
            ],
            [
             0.6666666666666666,
             "#ed7953"
            ],
            [
             0.7777777777777778,
             "#fb9f3a"
            ],
            [
             0.8888888888888888,
             "#fdca26"
            ],
            [
             1,
             "#f0f921"
            ]
           ],
           "sequentialminus": [
            [
             0,
             "#0d0887"
            ],
            [
             0.1111111111111111,
             "#46039f"
            ],
            [
             0.2222222222222222,
             "#7201a8"
            ],
            [
             0.3333333333333333,
             "#9c179e"
            ],
            [
             0.4444444444444444,
             "#bd3786"
            ],
            [
             0.5555555555555556,
             "#d8576b"
            ],
            [
             0.6666666666666666,
             "#ed7953"
            ],
            [
             0.7777777777777778,
             "#fb9f3a"
            ],
            [
             0.8888888888888888,
             "#fdca26"
            ],
            [
             1,
             "#f0f921"
            ]
           ]
          },
          "colorway": [
           "#636efa",
           "#EF553B",
           "#00cc96",
           "#ab63fa",
           "#FFA15A",
           "#19d3f3",
           "#FF6692",
           "#B6E880",
           "#FF97FF",
           "#FECB52"
          ],
          "font": {
           "color": "#2a3f5f"
          },
          "geo": {
           "bgcolor": "white",
           "lakecolor": "white",
           "landcolor": "#E5ECF6",
           "showlakes": true,
           "showland": true,
           "subunitcolor": "white"
          },
          "hoverlabel": {
           "align": "left"
          },
          "hovermode": "closest",
          "mapbox": {
           "style": "light"
          },
          "paper_bgcolor": "white",
          "plot_bgcolor": "#E5ECF6",
          "polar": {
           "angularaxis": {
            "gridcolor": "white",
            "linecolor": "white",
            "ticks": ""
           },
           "bgcolor": "#E5ECF6",
           "radialaxis": {
            "gridcolor": "white",
            "linecolor": "white",
            "ticks": ""
           }
          },
          "scene": {
           "xaxis": {
            "backgroundcolor": "#E5ECF6",
            "gridcolor": "white",
            "gridwidth": 2,
            "linecolor": "white",
            "showbackground": true,
            "ticks": "",
            "zerolinecolor": "white"
           },
           "yaxis": {
            "backgroundcolor": "#E5ECF6",
            "gridcolor": "white",
            "gridwidth": 2,
            "linecolor": "white",
            "showbackground": true,
            "ticks": "",
            "zerolinecolor": "white"
           },
           "zaxis": {
            "backgroundcolor": "#E5ECF6",
            "gridcolor": "white",
            "gridwidth": 2,
            "linecolor": "white",
            "showbackground": true,
            "ticks": "",
            "zerolinecolor": "white"
           }
          },
          "shapedefaults": {
           "line": {
            "color": "#2a3f5f"
           }
          },
          "ternary": {
           "aaxis": {
            "gridcolor": "white",
            "linecolor": "white",
            "ticks": ""
           },
           "baxis": {
            "gridcolor": "white",
            "linecolor": "white",
            "ticks": ""
           },
           "bgcolor": "#E5ECF6",
           "caxis": {
            "gridcolor": "white",
            "linecolor": "white",
            "ticks": ""
           }
          },
          "title": {
           "x": 0.05
          },
          "xaxis": {
           "automargin": true,
           "gridcolor": "white",
           "linecolor": "white",
           "ticks": "",
           "title": {
            "standoff": 15
           },
           "zerolinecolor": "white",
           "zerolinewidth": 2
          },
          "yaxis": {
           "automargin": true,
           "gridcolor": "white",
           "linecolor": "white",
           "ticks": "",
           "title": {
            "standoff": 15
           },
           "zerolinecolor": "white",
           "zerolinewidth": 2
          }
         }
        },
        "xaxis": {
         "autorange": true,
         "range": [
          0,
          99
         ],
         "type": "linear"
        },
        "yaxis": {
         "autorange": true,
         "range": [
          -2.541531721750895,
          2.653993765513102
         ],
         "type": "linear"
        }
       }
      },
      "image/png": "[encoded data removed]"
     },
     "metadata": {},
     "output_type": "display_data"
    }
   ],
   "source": [
    "import plotly.graph_objects as go\n",
    "import plotly.io as pio\n",
    "\n",
    "pio.renderers.default = 'vscode'\n",
    "\n",
    "y_pred = y_prediction.flatten().tolist()\n",
    "y_true = y.flatten().tolist()\n",
    "x = np.arange(len(y_true))\n",
    "fig = go.Figure()\n",
    "\n",
    "fig.add_trace(go.Scatter(x=x, y=y_pred, name='predicted',\n",
    "                         line=dict(color='red', width=2)))\n",
    "fig.add_trace(go.Scatter(x=x, y=y_true, name='actual',\n",
    "                         line=dict(color='blue', width=2)))\n",
    "fig.show()"
   ]
  },
  {
   "cell_type": "code",
   "execution_count": null,
   "id": "f9f0fce4-a139-46d6-8480-39321859b602",
   "metadata": {},
   "outputs": [],
   "source": []
  }
 ],
 "metadata": {
  "interpreter": {
   "hash": "983579c8409ce3112a7c656202565d438b4c07291c082ef6e245940d174d809a"
  },
  "kernelspec": {
   "display_name": "Python 3 (ipykernel)",
   "language": "python",
   "name": "python3"
  },
  "language_info": {
   "codemirror_mode": {
    "name": "ipython",
    "version": 3
   },
   "file_extension": ".py",
   "mimetype": "text/x-python",
   "name": "python",
   "nbconvert_exporter": "python",
   "pygments_lexer": "ipython3",
   "version": "3.8.13"
  }
 },
 "nbformat": 4,
 "nbformat_minor": 5
}
