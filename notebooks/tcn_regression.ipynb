{
 "cells": [
  {
   "cell_type": "code",
   "execution_count": 1,
   "id": "62a0669e-3e1a-47a8-843e-bfe374f2379a",
   "metadata": {},
   "outputs": [],
   "source": [
    "from array import array\n",
    "from skmultiflow.data import RegressionGenerator\n",
    "from sail.models.torch.tcn import TCNRegressor\n",
    "#from sail.models.torch.tcn import TCN\n",
    "import numpy as np\n",
    "import torch"
   ]
  },
  {
   "cell_type": "code",
   "execution_count": 2,
   "id": "ade77e0e-8628-4902-8068-fcd62ca34fbc",
   "metadata": {},
   "outputs": [],
   "source": [
    "n_samples = 6000\n",
    "n_features = 12\n",
    "stream = RegressionGenerator(random_state=1,\n",
    "                             n_samples=n_samples,\n",
    "                             n_features=n_features)\n",
    "learner_tcn = TCNRegressor(n_features, 1)\n"
   ]
  },
  {
   "cell_type": "code",
   "execution_count": 3,
   "id": "398a53b9-30e0-47df-b954-aa8746285877",
   "metadata": {},
   "outputs": [
    {
     "name": "stdout",
     "output_type": "stream",
     "text": [
      "  epoch    train_loss     dur\n",
      "-------  ------------  ------\n",
      "      1    \u001b[36m36861.3730\u001b[0m  0.0640\n",
      "      2    \u001b[36m30080.5003\u001b[0m  0.0400\n",
      "      3    \u001b[36m22639.8799\u001b[0m  0.0440\n",
      "      4    \u001b[36m13900.8678\u001b[0m  0.0380\n",
      "      5    23738.1152  0.0440\n",
      "      6    28056.0521  0.0410\n",
      "      7    25443.7734  0.0420\n",
      "      8    18505.4639  0.0430\n",
      "      9    21298.7930  0.0400\n",
      "     10    38952.5944  0.0370\n",
      "     11    33982.8021  0.0420\n",
      "     12    26913.8659  0.0420\n",
      "     13    33352.4271  0.0420\n",
      "     14    20728.8174  0.0410\n",
      "     15    35340.3346  0.0440\n",
      "     16    24270.5872  0.0410\n",
      "     17    18023.1328  0.0430\n",
      "     18    25873.4258  0.0410\n",
      "     19    16617.1751  0.0450\n",
      "     20    33355.7038  0.0410\n",
      "     21    32119.4544  0.0400\n",
      "     22    38390.3568  0.0420\n",
      "     23    28266.1797  0.0400\n",
      "     24    37191.2135  0.0420\n",
      "     25    24587.6357  0.0410\n",
      "     26    36838.6237  0.0390\n",
      "     27    15796.1816  0.0450\n",
      "     28    24403.3906  0.0390\n",
      "     29    18654.2533  0.0420\n",
      "     30    34941.4531  0.0390\n",
      "     31    27040.9557  0.0400\n",
      "     32    29173.3958  0.0410\n",
      "     33    33227.7201  0.0410\n",
      "     34    30314.1517  0.0380\n",
      "     35    20898.4583  0.0430\n",
      "     36    37689.5820  0.0410\n",
      "     37    28816.9538  0.0400\n",
      "     38    22764.5566  0.0390\n",
      "     39    35093.4258  0.0420\n",
      "     40    23418.2708  0.0390\n",
      "     41    21605.8255  0.0420\n",
      "     42    19048.8281  0.0410\n",
      "     43    23420.7865  0.0420\n",
      "     44    24492.9466  0.0420\n",
      "     45    22251.3320  0.0390\n",
      "     46    24025.9766  0.0390\n",
      "     47    28405.1344  0.0420\n",
      "     48    15264.4349  0.0370\n",
      "     49    23506.3665  0.0400\n",
      "     50    26499.5117  0.0430\n",
      "     51    24288.9688  0.0420\n",
      "     52    39455.6745  0.0400\n",
      "     53    19539.3094  0.0430\n",
      "     54    31632.1115  0.0420\n",
      "     55    28232.7038  0.0420\n",
      "     56    25546.7962  0.0390\n",
      "     57    40886.6979  0.0410\n",
      "     58    36890.5749  0.0430\n",
      "     59    20663.8887  0.0410\n",
      "     60    25592.3555  0.0410\n",
      "     61    35986.2695  0.0380\n",
      "     62    \u001b[36m13507.8535\u001b[0m  0.0400\n",
      "     63    24601.7812  0.0380\n",
      "     64    \u001b[36m12836.3011\u001b[0m  0.0440\n",
      "     65    25277.1380  0.0390\n",
      "     66    26910.2533  0.0420\n",
      "     67    37464.1354  0.0430\n",
      "     68    24594.2988  0.0410\n",
      "     69    14970.7689  0.0390\n",
      "     70    24644.4648  0.0400\n",
      "     71    19399.0716  0.0410\n",
      "     72    30388.3438  0.0420\n",
      "     73    34456.3411  0.0420\n",
      "     74    35813.3828  0.0420\n",
      "     75    22443.4827  0.0420\n",
      "     76    34806.8672  0.0420\n",
      "     77    23101.9987  0.0400\n",
      "     78    31363.5462  0.0440\n",
      "     79    16980.4762  0.0380\n",
      "     80    28274.7669  0.0400\n",
      "     81    19031.8438  0.0410\n",
      "     82    29671.8682  0.0390\n",
      "     83    31012.7305  0.0410\n",
      "     84    25084.1289  0.0390\n",
      "     85    26583.1296  0.0420\n",
      "     86    27797.0638  0.0390\n",
      "     87    19012.2949  0.0450\n",
      "     88    25944.3203  0.0410\n",
      "     89    31433.6706  0.0370\n",
      "     90    36127.2057  0.0420\n",
      "     91    23554.0703  0.0410\n",
      "     92    45563.4251  0.0410\n",
      "     93    29441.4697  0.0410\n",
      "     94    33491.8366  0.0380\n",
      "     95    18763.9902  0.0420\n",
      "     96    31256.1823  0.0400\n",
      "     97    33205.8477  0.0430\n",
      "     98    23315.7708  0.0410\n",
      "     99    26186.6279  0.0400\n",
      "    100    21735.8060  0.0410\n",
      "    101    19343.0215  0.0400\n",
      "    102    27529.1387  0.0430\n",
      "    103    21146.4102  0.0390\n",
      "    104    20670.4928  0.0370\n",
      "    105    48237.5599  0.0400\n",
      "    106    41365.1823  0.0370\n",
      "    107    21149.4297  0.0420\n",
      "    108    25348.8047  0.0370\n",
      "    109    34870.1406  0.0430\n",
      "    110    15261.3366  0.0400\n",
      "    111    32873.9427  0.0380\n",
      "    112    21875.3027  0.0400\n",
      "    113    25271.3932  0.0400\n",
      "    114    18149.9577  0.0410\n",
      "    115    24340.1699  0.0400\n",
      "    116    34051.1693  0.0390\n",
      "    117    23624.3737  0.0430\n",
      "    118    41762.1403  0.0400\n",
      "    119    52210.9141  0.0370\n",
      "    120    28045.4792  0.0420\n",
      "    121    23511.9310  0.0380\n",
      "    122    34614.6777  0.0420\n",
      "    123    35828.5859  0.0410\n",
      "    124    24568.3451  0.0410\n",
      "    125    39456.1471  0.0400\n",
      "    126    29189.7148  0.0410\n",
      "    127    23073.5495  0.0400\n",
      "    128    22267.5514  0.0410\n",
      "    129    31392.0625  0.0370\n",
      "    130    32135.0000  0.0410\n",
      "    131    17508.4194  0.0410\n",
      "    132    27173.9375  0.0430\n",
      "    133    31915.3320  0.0410\n",
      "    134    23788.6602  0.0410\n",
      "    135    27607.8594  0.0370\n",
      "    136    23274.7181  0.0420\n",
      "    137    26012.1296  0.0390\n",
      "    138    21200.5938  0.0410\n",
      "    139    29524.6569  0.0420\n",
      "    140    38134.9349  0.0400\n",
      "    141    26527.6787  0.0390\n",
      "    142    19384.1042  0.0410\n",
      "    143    18893.0846  0.0410\n",
      "    144    25371.7096  0.0390\n",
      "    145    32849.7650  0.0400\n",
      "    146    38466.7292  0.0410\n",
      "    147    38676.2858  0.0390\n",
      "    148    25274.7214  0.0420\n",
      "    149    26822.8763  0.0420\n",
      "    150    21011.3164  0.0380\n",
      "    151    17219.2767  0.0410\n",
      "    152    44077.2995  0.0380\n",
      "    153    24753.0339  0.0380\n",
      "    154    27043.3213  0.0420\n",
      "    155    38150.9935  0.0390\n",
      "    156    38343.0482  0.0400\n",
      "    157    30141.4831  0.0410\n",
      "    158    21550.1810  0.0380\n",
      "    159    25698.6628  0.0430\n",
      "    160    18203.0094  0.0430\n",
      "    161    21866.3079  0.0400\n",
      "    162    17716.3490  0.0430\n",
      "    163    27634.4538  0.0380\n",
      "    164    16398.2663  0.0410\n",
      "    165    19558.7786  0.0410\n",
      "    166    15128.4722  0.0440\n",
      "    167    31531.0443  0.0380\n",
      "    168    32295.5872  0.0410\n",
      "    169    24002.8232  0.0400\n",
      "    170    30843.6647  0.0410\n",
      "    171    22541.6081  0.0380\n",
      "    172    31672.6706  0.0410\n",
      "    173    21838.0658  0.0430\n",
      "    174    31418.0286  0.0400\n",
      "    175    18124.0957  0.0390\n",
      "    176    31549.5924  0.0420\n",
      "    177    24218.7279  0.0380\n",
      "    178    35415.3398  0.0420\n",
      "    179    16677.5208  0.0390\n",
      "    180    26285.9590  0.0400\n",
      "    181    30400.0508  0.0410\n",
      "    182    19225.6546  0.0420\n",
      "    183    23510.5485  0.0390\n",
      "    184    28817.3405  0.0410\n",
      "    185    32263.9935  0.0420\n",
      "    186    28648.5104  0.0420\n",
      "    187    47570.6576  0.0400\n",
      "    188    26943.3125  0.0420\n",
      "    189    28269.2500  0.0390\n",
      "    190    33506.8190  0.0400\n",
      "    191    30062.2253  0.0430\n",
      "    192    32001.6823  0.0370\n",
      "    193    33325.6641  0.0440\n",
      "    194    26767.7523  0.0400\n",
      "    195    21314.4447  0.0420\n",
      "    196    22653.9303  0.0400\n",
      "    197    19469.9876  0.0400\n",
      "    198    18762.8262  0.0420\n",
      "    199    23552.3138  0.0380\n",
      "    200    14455.1081  0.0420\n"
     ]
    }
   ],
   "source": [
    "cnt = 0\n",
    "y_true = array('d')\n",
    "y_pred = array('d') \n",
    "index = []\n",
    "i = 0\n",
    "wait_samples = 30\n",
    "while cnt < n_samples and stream.has_more_samples():\n",
    "    X, y = stream.next_sample(batch_size=wait_samples)\n",
    "    y = np.array(y)\n",
    "    X = np.array(X)\n",
    "    X = X.reshape(X.shape[0], X.shape[1], -1)\n",
    "    y = y.reshape(y.shape[0], -1)\n",
    "    X = X.astype(np.float32)\n",
    "    y = y.astype(np.float32)\n",
    "\n",
    "    # Test every n samples\n",
    "    if (cnt % wait_samples == 0) & (cnt != 0):\n",
    "        y_true.append(y[0])\n",
    "        y_pred1 = learner_tcn.predict(X)[0][0]\n",
    "        y_pred.append(y_pred1)\n",
    "        index.append(i)\n",
    "        i = i + 1\n",
    "    learner_tcn.partial_fit(X, y)\n",
    "    #learner_tcn.predict(X)\n",
    "    cnt += 1"
   ]
  },
  {
   "cell_type": "code",
   "execution_count": 4,
   "id": "8262bc28-e901-4a71-910d-c4b0fea6b172",
   "metadata": {},
   "outputs": [
    {
     "data": {
      "application/vnd.plotly.v1+json": {
       "config": {
        "plotlyServerURL": "https://plot.ly"
       },
       "data": [
        {
         "line": {
          "color": "red",
          "width": 2
         },
         "name": "predicted",
         "type": "scatter",
         "x": [
          0,
          1,
          2,
          3,
          4,
          5
         ],
         "y": [
          0.00006560406472999603,
          1.4029061115930497e-13,
          0.9999556541442871,
          0.000277607177849859,
          0.9999886751174927,
          0.9999420642852783
         ]
        },
        {
         "line": {
          "color": "blue",
          "width": 2
         },
         "name": "actual",
         "type": "scatter",
         "x": [
          0,
          1,
          2,
          3,
          4,
          5
         ],
         "y": [
          -102.64474487304688,
          -236.6672821044922,
          156.13552856445312,
          -51.968807220458984,
          193.8008270263672,
          121.15168762207031
         ]
        }
       ],
       "layout": {
        "template": {
         "data": {
          "bar": [
           {
            "error_x": {
             "color": "#2a3f5f"
            },
            "error_y": {
             "color": "#2a3f5f"
            },
            "marker": {
             "line": {
              "color": "#E5ECF6",
              "width": 0.5
             },
             "pattern": {
              "fillmode": "overlay",
              "size": 10,
              "solidity": 0.2
             }
            },
            "type": "bar"
           }
          ],
          "barpolar": [
           {
            "marker": {
             "line": {
              "color": "#E5ECF6",
              "width": 0.5
             },
             "pattern": {
              "fillmode": "overlay",
              "size": 10,
              "solidity": 0.2
             }
            },
            "type": "barpolar"
           }
          ],
          "carpet": [
           {
            "aaxis": {
             "endlinecolor": "#2a3f5f",
             "gridcolor": "white",
             "linecolor": "white",
             "minorgridcolor": "white",
             "startlinecolor": "#2a3f5f"
            },
            "baxis": {
             "endlinecolor": "#2a3f5f",
             "gridcolor": "white",
             "linecolor": "white",
             "minorgridcolor": "white",
             "startlinecolor": "#2a3f5f"
            },
            "type": "carpet"
           }
          ],
          "choropleth": [
           {
            "colorbar": {
             "outlinewidth": 0,
             "ticks": ""
            },
            "type": "choropleth"
           }
          ],
          "contour": [
           {
            "colorbar": {
             "outlinewidth": 0,
             "ticks": ""
            },
            "colorscale": [
             [
              0,
              "#0d0887"
             ],
             [
              0.1111111111111111,
              "#46039f"
             ],
             [
              0.2222222222222222,
              "#7201a8"
             ],
             [
              0.3333333333333333,
              "#9c179e"
             ],
             [
              0.4444444444444444,
              "#bd3786"
             ],
             [
              0.5555555555555556,
              "#d8576b"
             ],
             [
              0.6666666666666666,
              "#ed7953"
             ],
             [
              0.7777777777777778,
              "#fb9f3a"
             ],
             [
              0.8888888888888888,
              "#fdca26"
             ],
             [
              1,
              "#f0f921"
             ]
            ],
            "type": "contour"
           }
          ],
          "contourcarpet": [
           {
            "colorbar": {
             "outlinewidth": 0,
             "ticks": ""
            },
            "type": "contourcarpet"
           }
          ],
          "heatmap": [
           {
            "colorbar": {
             "outlinewidth": 0,
             "ticks": ""
            },
            "colorscale": [
             [
              0,
              "#0d0887"
             ],
             [
              0.1111111111111111,
              "#46039f"
             ],
             [
              0.2222222222222222,
              "#7201a8"
             ],
             [
              0.3333333333333333,
              "#9c179e"
             ],
             [
              0.4444444444444444,
              "#bd3786"
             ],
             [
              0.5555555555555556,
              "#d8576b"
             ],
             [
              0.6666666666666666,
              "#ed7953"
             ],
             [
              0.7777777777777778,
              "#fb9f3a"
             ],
             [
              0.8888888888888888,
              "#fdca26"
             ],
             [
              1,
              "#f0f921"
             ]
            ],
            "type": "heatmap"
           }
          ],
          "heatmapgl": [
           {
            "colorbar": {
             "outlinewidth": 0,
             "ticks": ""
            },
            "colorscale": [
             [
              0,
              "#0d0887"
             ],
             [
              0.1111111111111111,
              "#46039f"
             ],
             [
              0.2222222222222222,
              "#7201a8"
             ],
             [
              0.3333333333333333,
              "#9c179e"
             ],
             [
              0.4444444444444444,
              "#bd3786"
             ],
             [
              0.5555555555555556,
              "#d8576b"
             ],
             [
              0.6666666666666666,
              "#ed7953"
             ],
             [
              0.7777777777777778,
              "#fb9f3a"
             ],
             [
              0.8888888888888888,
              "#fdca26"
             ],
             [
              1,
              "#f0f921"
             ]
            ],
            "type": "heatmapgl"
           }
          ],
          "histogram": [
           {
            "marker": {
             "pattern": {
              "fillmode": "overlay",
              "size": 10,
              "solidity": 0.2
             }
            },
            "type": "histogram"
           }
          ],
          "histogram2d": [
           {
            "colorbar": {
             "outlinewidth": 0,
             "ticks": ""
            },
            "colorscale": [
             [
              0,
              "#0d0887"
             ],
             [
              0.1111111111111111,
              "#46039f"
             ],
             [
              0.2222222222222222,
              "#7201a8"
             ],
             [
              0.3333333333333333,
              "#9c179e"
             ],
             [
              0.4444444444444444,
              "#bd3786"
             ],
             [
              0.5555555555555556,
              "#d8576b"
             ],
             [
              0.6666666666666666,
              "#ed7953"
             ],
             [
              0.7777777777777778,
              "#fb9f3a"
             ],
             [
              0.8888888888888888,
              "#fdca26"
             ],
             [
              1,
              "#f0f921"
             ]
            ],
            "type": "histogram2d"
           }
          ],
          "histogram2dcontour": [
           {
            "colorbar": {
             "outlinewidth": 0,
             "ticks": ""
            },
            "colorscale": [
             [
              0,
              "#0d0887"
             ],
             [
              0.1111111111111111,
              "#46039f"
             ],
             [
              0.2222222222222222,
              "#7201a8"
             ],
             [
              0.3333333333333333,
              "#9c179e"
             ],
             [
              0.4444444444444444,
              "#bd3786"
             ],
             [
              0.5555555555555556,
              "#d8576b"
             ],
             [
              0.6666666666666666,
              "#ed7953"
             ],
             [
              0.7777777777777778,
              "#fb9f3a"
             ],
             [
              0.8888888888888888,
              "#fdca26"
             ],
             [
              1,
              "#f0f921"
             ]
            ],
            "type": "histogram2dcontour"
           }
          ],
          "mesh3d": [
           {
            "colorbar": {
             "outlinewidth": 0,
             "ticks": ""
            },
            "type": "mesh3d"
           }
          ],
          "parcoords": [
           {
            "line": {
             "colorbar": {
              "outlinewidth": 0,
              "ticks": ""
             }
            },
            "type": "parcoords"
           }
          ],
          "pie": [
           {
            "automargin": true,
            "type": "pie"
           }
          ],
          "scatter": [
           {
            "marker": {
             "colorbar": {
              "outlinewidth": 0,
              "ticks": ""
             }
            },
            "type": "scatter"
           }
          ],
          "scatter3d": [
           {
            "line": {
             "colorbar": {
              "outlinewidth": 0,
              "ticks": ""
             }
            },
            "marker": {
             "colorbar": {
              "outlinewidth": 0,
              "ticks": ""
             }
            },
            "type": "scatter3d"
           }
          ],
          "scattercarpet": [
           {
            "marker": {
             "colorbar": {
              "outlinewidth": 0,
              "ticks": ""
             }
            },
            "type": "scattercarpet"
           }
          ],
          "scattergeo": [
           {
            "marker": {
             "colorbar": {
              "outlinewidth": 0,
              "ticks": ""
             }
            },
            "type": "scattergeo"
           }
          ],
          "scattergl": [
           {
            "marker": {
             "colorbar": {
              "outlinewidth": 0,
              "ticks": ""
             }
            },
            "type": "scattergl"
           }
          ],
          "scattermapbox": [
           {
            "marker": {
             "colorbar": {
              "outlinewidth": 0,
              "ticks": ""
             }
            },
            "type": "scattermapbox"
           }
          ],
          "scatterpolar": [
           {
            "marker": {
             "colorbar": {
              "outlinewidth": 0,
              "ticks": ""
             }
            },
            "type": "scatterpolar"
           }
          ],
          "scatterpolargl": [
           {
            "marker": {
             "colorbar": {
              "outlinewidth": 0,
              "ticks": ""
             }
            },
            "type": "scatterpolargl"
           }
          ],
          "scatterternary": [
           {
            "marker": {
             "colorbar": {
              "outlinewidth": 0,
              "ticks": ""
             }
            },
            "type": "scatterternary"
           }
          ],
          "surface": [
           {
            "colorbar": {
             "outlinewidth": 0,
             "ticks": ""
            },
            "colorscale": [
             [
              0,
              "#0d0887"
             ],
             [
              0.1111111111111111,
              "#46039f"
             ],
             [
              0.2222222222222222,
              "#7201a8"
             ],
             [
              0.3333333333333333,
              "#9c179e"
             ],
             [
              0.4444444444444444,
              "#bd3786"
             ],
             [
              0.5555555555555556,
              "#d8576b"
             ],
             [
              0.6666666666666666,
              "#ed7953"
             ],
             [
              0.7777777777777778,
              "#fb9f3a"
             ],
             [
              0.8888888888888888,
              "#fdca26"
             ],
             [
              1,
              "#f0f921"
             ]
            ],
            "type": "surface"
           }
          ],
          "table": [
           {
            "cells": {
             "fill": {
              "color": "#EBF0F8"
             },
             "line": {
              "color": "white"
             }
            },
            "header": {
             "fill": {
              "color": "#C8D4E3"
             },
             "line": {
              "color": "white"
             }
            },
            "type": "table"
           }
          ]
         },
         "layout": {
          "annotationdefaults": {
           "arrowcolor": "#2a3f5f",
           "arrowhead": 0,
           "arrowwidth": 1
          },
          "autotypenumbers": "strict",
          "coloraxis": {
           "colorbar": {
            "outlinewidth": 0,
            "ticks": ""
           }
          },
          "colorscale": {
           "diverging": [
            [
             0,
             "#8e0152"
            ],
            [
             0.1,
             "#c51b7d"
            ],
            [
             0.2,
             "#de77ae"
            ],
            [
             0.3,
             "#f1b6da"
            ],
            [
             0.4,
             "#fde0ef"
            ],
            [
             0.5,
             "#f7f7f7"
            ],
            [
             0.6,
             "#e6f5d0"
            ],
            [
             0.7,
             "#b8e186"
            ],
            [
             0.8,
             "#7fbc41"
            ],
            [
             0.9,
             "#4d9221"
            ],
            [
             1,
             "#276419"
            ]
           ],
           "sequential": [
            [
             0,
             "#0d0887"
            ],
            [
             0.1111111111111111,
             "#46039f"
            ],
            [
             0.2222222222222222,
             "#7201a8"
            ],
            [
             0.3333333333333333,
             "#9c179e"
            ],
            [
             0.4444444444444444,
             "#bd3786"
            ],
            [
             0.5555555555555556,
             "#d8576b"
            ],
            [
             0.6666666666666666,
             "#ed7953"
            ],
            [
             0.7777777777777778,
             "#fb9f3a"
            ],
            [
             0.8888888888888888,
             "#fdca26"
            ],
            [
             1,
             "#f0f921"
            ]
           ],
           "sequentialminus": [
            [
             0,
             "#0d0887"
            ],
            [
             0.1111111111111111,
             "#46039f"
            ],
            [
             0.2222222222222222,
             "#7201a8"
            ],
            [
             0.3333333333333333,
             "#9c179e"
            ],
            [
             0.4444444444444444,
             "#bd3786"
            ],
            [
             0.5555555555555556,
             "#d8576b"
            ],
            [
             0.6666666666666666,
             "#ed7953"
            ],
            [
             0.7777777777777778,
             "#fb9f3a"
            ],
            [
             0.8888888888888888,
             "#fdca26"
            ],
            [
             1,
             "#f0f921"
            ]
           ]
          },
          "colorway": [
           "#636efa",
           "#EF553B",
           "#00cc96",
           "#ab63fa",
           "#FFA15A",
           "#19d3f3",
           "#FF6692",
           "#B6E880",
           "#FF97FF",
           "#FECB52"
          ],
          "font": {
           "color": "#2a3f5f"
          },
          "geo": {
           "bgcolor": "white",
           "lakecolor": "white",
           "landcolor": "#E5ECF6",
           "showlakes": true,
           "showland": true,
           "subunitcolor": "white"
          },
          "hoverlabel": {
           "align": "left"
          },
          "hovermode": "closest",
          "mapbox": {
           "style": "light"
          },
          "paper_bgcolor": "white",
          "plot_bgcolor": "#E5ECF6",
          "polar": {
           "angularaxis": {
            "gridcolor": "white",
            "linecolor": "white",
            "ticks": ""
           },
           "bgcolor": "#E5ECF6",
           "radialaxis": {
            "gridcolor": "white",
            "linecolor": "white",
            "ticks": ""
           }
          },
          "scene": {
           "xaxis": {
            "backgroundcolor": "#E5ECF6",
            "gridcolor": "white",
            "gridwidth": 2,
            "linecolor": "white",
            "showbackground": true,
            "ticks": "",
            "zerolinecolor": "white"
           },
           "yaxis": {
            "backgroundcolor": "#E5ECF6",
            "gridcolor": "white",
            "gridwidth": 2,
            "linecolor": "white",
            "showbackground": true,
            "ticks": "",
            "zerolinecolor": "white"
           },
           "zaxis": {
            "backgroundcolor": "#E5ECF6",
            "gridcolor": "white",
            "gridwidth": 2,
            "linecolor": "white",
            "showbackground": true,
            "ticks": "",
            "zerolinecolor": "white"
           }
          },
          "shapedefaults": {
           "line": {
            "color": "#2a3f5f"
           }
          },
          "ternary": {
           "aaxis": {
            "gridcolor": "white",
            "linecolor": "white",
            "ticks": ""
           },
           "baxis": {
            "gridcolor": "white",
            "linecolor": "white",
            "ticks": ""
           },
           "bgcolor": "#E5ECF6",
           "caxis": {
            "gridcolor": "white",
            "linecolor": "white",
            "ticks": ""
           }
          },
          "title": {
           "x": 0.05
          },
          "xaxis": {
           "automargin": true,
           "gridcolor": "white",
           "linecolor": "white",
           "ticks": "",
           "title": {
            "standoff": 15
           },
           "zerolinecolor": "white",
           "zerolinewidth": 2
          },
          "yaxis": {
           "automargin": true,
           "gridcolor": "white",
           "linecolor": "white",
           "ticks": "",
           "title": {
            "standoff": 15
           },
           "zerolinecolor": "white",
           "zerolinewidth": 2
          }
         }
        }
       }
      }
     },
     "metadata": {},
     "output_type": "display_data"
    }
   ],
   "source": [
    "import plotly.graph_objects as go\n",
    "import plotly.io as pio\n",
    "\n",
    "pio.renderers.default = 'vscode'\n",
    "\n",
    "y_pred = y_pred.tolist()\n",
    "y_true = y_true.tolist()\n",
    "fig = go.Figure()\n",
    "\n",
    "fig.add_trace(go.Scatter(x=index, y=y_pred, name='predicted',\n",
    "                         line=dict(color='red', width=2)))\n",
    "fig.add_trace(go.Scatter(x=index, y=y_true, name='actual',\n",
    "                         line=dict(color='blue', width=2)))\n",
    "fig.show()"
   ]
  }
 ],
 "metadata": {
  "interpreter": {
   "hash": "983579c8409ce3112a7c656202565d438b4c07291c082ef6e245940d174d809a"
  },
  "kernelspec": {
   "display_name": "Python 3.9.12 ('base')",
   "language": "python",
   "name": "python3"
  },
  "language_info": {
   "codemirror_mode": {
    "name": "ipython",
    "version": 3
   },
   "file_extension": ".py",
   "mimetype": "text/x-python",
   "name": "python",
   "nbconvert_exporter": "python",
   "pygments_lexer": "ipython3",
   "version": "3.9.12"
  }
 },
 "nbformat": 4,
 "nbformat_minor": 5
}
