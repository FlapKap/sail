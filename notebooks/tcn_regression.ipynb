{
 "cells": [
  {
   "cell_type": "code",
   "execution_count": 1,
   "id": "62a0669e-3e1a-47a8-843e-bfe374f2379a",
   "metadata": {},
   "outputs": [
    {
     "name": "stderr",
     "output_type": "stream",
     "text": [
      "/Users/mehkj/miniconda3_i386/envs/imla/lib/python3.8/site-packages/tqdm/auto.py:22: TqdmWarning: IProgress not found. Please update jupyter and ipywidgets. See https://ipywidgets.readthedocs.io/en/stable/user_install.html\n",
      "  from .autonotebook import tqdm as notebook_tqdm\n"
     ]
    }
   ],
   "source": [
    "from array import array\n",
    "from skmultiflow.data import RegressionGenerator\n",
    "from sail.models.torch.tcn import TCNRegressor\n",
    "import numpy as np\n",
    "import torch"
   ]
  },
  {
   "cell_type": "code",
   "execution_count": 2,
   "id": "ade77e0e-8628-4902-8068-fcd62ca34fbc",
   "metadata": {},
   "outputs": [],
   "source": [
    "n_samples = 6000\n",
    "n_features = 12\n",
    "stream = RegressionGenerator(random_state=1,\n",
    "                             n_samples=n_samples,\n",
    "                             n_features=n_features)\n",
    "learner_tcn = TCNRegressor(n_features, 1)\n"
   ]
  },
  {
   "cell_type": "code",
   "execution_count": 3,
   "id": "398a53b9-30e0-47df-b954-aa8746285877",
   "metadata": {},
   "outputs": [
    {
     "name": "stdout",
     "output_type": "stream",
     "text": [
      "  epoch    train_loss     dur\n",
      "-------  ------------  ------\n",
      "      1    \u001b[36m37039.8385\u001b[0m  0.0129\n",
      "      2  7329592.9531  0.0052\n",
      "      3           nan  0.0049\n",
      "      4           nan  0.0053\n",
      "      5           nan  0.0061\n",
      "      6           nan  0.0049\n",
      "      7           nan  0.0058\n",
      "      8           nan  0.0054\n",
      "      9           nan  0.0048\n",
      "     10           nan  0.0061\n",
      "     11           nan  0.0049\n",
      "     12           nan  0.0052\n",
      "     13           nan  0.0060\n",
      "     14           nan  0.0048\n",
      "     15           nan  0.0060\n",
      "     16           nan  0.0053\n",
      "     17           nan  0.0049\n",
      "     18           nan  0.0068\n",
      "     19           nan  0.0052\n",
      "     20           nan  0.0051\n",
      "     21           nan  0.0061\n",
      "     22           nan  0.0048\n",
      "     23           nan  0.0060\n",
      "     24           nan  0.0050\n",
      "     25           nan  0.0052\n",
      "     26           nan  0.0067\n",
      "     27           nan  0.0051\n",
      "     28           nan  0.0057\n",
      "     29           nan  0.0054\n",
      "     30           nan  0.0049\n",
      "     31           nan  0.0053\n",
      "     32           nan  0.0047\n",
      "     33           nan  0.0061\n",
      "     34           nan  0.0052\n",
      "     35           nan  0.0052\n",
      "     36           nan  0.0057\n",
      "     37           nan  0.0058\n",
      "     38           nan  0.0050\n",
      "     39           nan  0.0059\n",
      "     40           nan  0.0051\n",
      "     41           nan  0.0057\n",
      "     42           nan  0.0053\n",
      "     43           nan  0.0049\n",
      "     44           nan  0.0059\n",
      "     45           nan  0.0051\n",
      "     46           nan  0.0054\n",
      "     47           nan  0.0056\n",
      "     48           nan  0.0059\n",
      "     49           nan  0.0058\n",
      "     50           nan  0.0051\n",
      "     51           nan  0.0048\n",
      "     52           nan  0.0053\n",
      "     53           nan  0.0048\n",
      "     54           nan  0.0052\n",
      "     55           nan  0.0057\n",
      "     56           nan  0.0051\n",
      "     57           nan  0.0058\n",
      "     58           nan  0.0058\n",
      "     59           nan  0.0053\n",
      "     60           nan  0.0057\n",
      "     61           nan  0.0045\n",
      "     62           nan  0.0057\n",
      "     63           nan  0.0062\n",
      "     64           nan  0.0067\n",
      "     65           nan  0.0061\n",
      "     66           nan  0.0049\n",
      "     67           nan  0.0059\n",
      "     68           nan  0.0059\n",
      "     69           nan  0.0054\n",
      "     70           nan  0.0062\n",
      "     71           nan  0.0048\n",
      "     72           nan  0.0060\n",
      "     73           nan  0.0046\n",
      "     74           nan  0.0055\n",
      "     75           nan  0.0050\n",
      "     76           nan  0.0060\n",
      "     77           nan  0.0052\n",
      "     78           nan  0.0053\n",
      "     79           nan  0.0061\n",
      "     80           nan  0.0052\n",
      "     81           nan  0.0066\n",
      "     82           nan  0.0065\n",
      "     83           nan  0.0057\n",
      "     84           nan  0.0099\n",
      "     85           nan  0.0076\n",
      "     86           nan  0.0069\n",
      "     87           nan  0.0088\n",
      "     88           nan  0.0053\n",
      "     89           nan  0.0061\n",
      "     90           nan  0.0058\n",
      "     91           nan  0.0050\n",
      "     92           nan  0.0061\n",
      "     93           nan  0.0058\n",
      "     94           nan  0.0101\n",
      "     95           nan  0.0060\n",
      "     96           nan  0.0074\n",
      "     97           nan  0.0061\n",
      "     98           nan  0.0077\n",
      "     99           nan  0.0057\n",
      "    100           nan  0.0068\n",
      "    101           nan  0.0064\n",
      "    102           nan  0.0053\n",
      "    103           nan  0.0056\n",
      "    104           nan  0.0059\n",
      "    105           nan  0.0057\n",
      "    106           nan  0.0053\n",
      "    107           nan  0.0065\n",
      "    108           nan  0.0059\n",
      "    109           nan  0.0059\n",
      "    110           nan  0.0058\n",
      "    111           nan  0.0050\n",
      "    112           nan  0.0060\n",
      "    113           nan  0.0051\n",
      "    114           nan  0.0061\n",
      "    115           nan  0.0055\n",
      "    116           nan  0.0048\n",
      "    117           nan  0.0061\n",
      "    118           nan  0.0058\n",
      "    119           nan  0.0049\n",
      "    120           nan  0.0057\n",
      "    121           nan  0.0050\n",
      "    122           nan  0.0066\n",
      "    123           nan  0.0057\n",
      "    124           nan  0.0049\n",
      "    125           nan  0.0058\n",
      "    126           nan  0.0049\n",
      "    127           nan  0.0061\n",
      "    128           nan  0.0061\n",
      "    129           nan  0.0048\n",
      "    130           nan  0.0052\n",
      "    131           nan  0.0052\n",
      "    132           nan  0.0050\n",
      "    133           nan  0.0058\n",
      "    134           nan  0.0059\n",
      "    135           nan  0.0048\n",
      "    136           nan  0.0056\n",
      "    137           nan  0.0056\n",
      "    138           nan  0.0053\n",
      "    139           nan  0.0050\n",
      "    140           nan  0.0055\n",
      "    141           nan  0.0057\n",
      "    142           nan  0.0056\n",
      "    143           nan  0.0046\n",
      "    144           nan  0.0053\n",
      "    145           nan  0.0048\n",
      "    146           nan  0.0061\n",
      "    147           nan  0.0060\n",
      "    148           nan  0.0047\n",
      "    149           nan  0.0052\n",
      "    150           nan  0.0049\n",
      "    151           nan  0.0047\n",
      "    152           nan  0.0055\n",
      "    153           nan  0.0054\n",
      "    154           nan  0.0050\n",
      "    155           nan  0.0052\n",
      "    156           nan  0.0053\n",
      "    157           nan  0.0051\n",
      "    158           nan  0.0049\n",
      "    159           nan  0.0061\n",
      "    160           nan  0.0057\n",
      "    161           nan  0.0050\n",
      "    162           nan  0.0050\n",
      "    163           nan  0.0054\n",
      "    164           nan  0.0051\n",
      "    165           nan  0.0051\n",
      "    166           nan  0.0062\n",
      "    167           nan  0.0049\n",
      "    168           nan  0.0054\n",
      "    169           nan  0.0047\n",
      "    170           nan  0.0055\n",
      "    171           nan  0.0054\n",
      "    172           nan  0.0053\n",
      "    173           nan  0.0048\n",
      "    174           nan  0.0054\n",
      "    175           nan  0.0046\n",
      "    176           nan  0.0064\n",
      "    177           nan  0.0055\n",
      "    178           nan  0.0049\n",
      "    179           nan  0.0049\n",
      "    180           nan  0.0048\n",
      "    181           nan  0.0045\n",
      "    182           nan  0.0049\n",
      "    183           nan  0.0056\n",
      "    184           nan  0.0046\n",
      "    185           nan  0.0049\n",
      "    186           nan  0.0046\n",
      "    187           nan  0.0046\n",
      "    188           nan  0.0055\n",
      "    189           nan  0.0049\n",
      "    190           nan  0.0055\n",
      "    191           nan  0.0054\n",
      "    192           nan  0.0048\n",
      "    193           nan  0.0049\n",
      "    194           nan  0.0048\n",
      "    195           nan  0.0054\n",
      "    196           nan  0.0048\n",
      "    197           nan  0.0049\n",
      "    198           nan  0.0057\n",
      "    199           nan  0.0046\n",
      "    200           nan  0.0048\n"
     ]
    }
   ],
   "source": [
    "cnt = 0\n",
    "y_true = array('d')\n",
    "y_pred = array('d') \n",
    "index = []\n",
    "i = 0\n",
    "wait_samples = 30\n",
    "while cnt < n_samples and stream.has_more_samples():\n",
    "    X, y = stream.next_sample(batch_size=wait_samples)\n",
    "    y = np.array(y)\n",
    "    X = np.array(X)\n",
    "    y = y.reshape(y.shape[0], -1)\n",
    "    X = X.astype(np.float32)\n",
    "    y = y.astype(np.float32)\n",
    "\n",
    "    # Test every n samples\n",
    "    if (cnt % wait_samples == 0) & (cnt != 0):\n",
    "        y_true.append(y[0])\n",
    "        y_pred1 = learner_tcn.predict(X)[0][0]\n",
    "        y_pred.append(y_pred1)\n",
    "        index.append(i)\n",
    "        i = i + 1\n",
    "    learner_tcn.partial_fit(X, y)\n",
    "    cnt += 1"
   ]
  },
  {
   "cell_type": "code",
   "execution_count": null,
   "id": "8262bc28-e901-4a71-910d-c4b0fea6b172",
   "metadata": {},
   "outputs": [
    {
     "data": {
      "application/vnd.plotly.v1+json": {
       "config": {
        "plotlyServerURL": "https://plot.ly"
       },
       "data": [
        {
         "line": {
          "color": "red",
          "width": 2
         },
         "name": "predicted",
         "type": "scatter",
         "x": [
          0,
          1,
          2,
          3,
          4,
          5
         ],
         "y": [
          null,
          null,
          null,
          null,
          null,
          null
         ]
        },
        {
         "line": {
          "color": "blue",
          "width": 2
         },
         "name": "actual",
         "type": "scatter",
         "x": [
          0,
          1,
          2,
          3,
          4,
          5
         ],
         "y": [
          -102.64474487304688,
          -236.6672821044922,
          156.13552856445312,
          -51.968807220458984,
          193.8008270263672,
          121.15168762207031
         ]
        }
       ],
       "layout": {
        "autosize": true,
        "template": {
         "data": {
          "bar": [
           {
            "error_x": {
             "color": "#2a3f5f"
            },
            "error_y": {
             "color": "#2a3f5f"
            },
            "marker": {
             "line": {
              "color": "#E5ECF6",
              "width": 0.5
             },
             "pattern": {
              "fillmode": "overlay",
              "size": 10,
              "solidity": 0.2
             }
            },
            "type": "bar"
           }
          ],
          "barpolar": [
           {
            "marker": {
             "line": {
              "color": "#E5ECF6",
              "width": 0.5
             },
             "pattern": {
              "fillmode": "overlay",
              "size": 10,
              "solidity": 0.2
             }
            },
            "type": "barpolar"
           }
          ],
          "carpet": [
           {
            "aaxis": {
             "endlinecolor": "#2a3f5f",
             "gridcolor": "white",
             "linecolor": "white",
             "minorgridcolor": "white",
             "startlinecolor": "#2a3f5f"
            },
            "baxis": {
             "endlinecolor": "#2a3f5f",
             "gridcolor": "white",
             "linecolor": "white",
             "minorgridcolor": "white",
             "startlinecolor": "#2a3f5f"
            },
            "type": "carpet"
           }
          ],
          "choropleth": [
           {
            "colorbar": {
             "outlinewidth": 0,
             "ticks": ""
            },
            "type": "choropleth"
           }
          ],
          "contour": [
           {
            "colorbar": {
             "outlinewidth": 0,
             "ticks": ""
            },
            "colorscale": [
             [
              0,
              "#0d0887"
             ],
             [
              0.1111111111111111,
              "#46039f"
             ],
             [
              0.2222222222222222,
              "#7201a8"
             ],
             [
              0.3333333333333333,
              "#9c179e"
             ],
             [
              0.4444444444444444,
              "#bd3786"
             ],
             [
              0.5555555555555556,
              "#d8576b"
             ],
             [
              0.6666666666666666,
              "#ed7953"
             ],
             [
              0.7777777777777778,
              "#fb9f3a"
             ],
             [
              0.8888888888888888,
              "#fdca26"
             ],
             [
              1,
              "#f0f921"
             ]
            ],
            "type": "contour"
           }
          ],
          "contourcarpet": [
           {
            "colorbar": {
             "outlinewidth": 0,
             "ticks": ""
            },
            "type": "contourcarpet"
           }
          ],
          "heatmap": [
           {
            "colorbar": {
             "outlinewidth": 0,
             "ticks": ""
            },
            "colorscale": [
             [
              0,
              "#0d0887"
             ],
             [
              0.1111111111111111,
              "#46039f"
             ],
             [
              0.2222222222222222,
              "#7201a8"
             ],
             [
              0.3333333333333333,
              "#9c179e"
             ],
             [
              0.4444444444444444,
              "#bd3786"
             ],
             [
              0.5555555555555556,
              "#d8576b"
             ],
             [
              0.6666666666666666,
              "#ed7953"
             ],
             [
              0.7777777777777778,
              "#fb9f3a"
             ],
             [
              0.8888888888888888,
              "#fdca26"
             ],
             [
              1,
              "#f0f921"
             ]
            ],
            "type": "heatmap"
           }
          ],
          "heatmapgl": [
           {
            "colorbar": {
             "outlinewidth": 0,
             "ticks": ""
            },
            "colorscale": [
             [
              0,
              "#0d0887"
             ],
             [
              0.1111111111111111,
              "#46039f"
             ],
             [
              0.2222222222222222,
              "#7201a8"
             ],
             [
              0.3333333333333333,
              "#9c179e"
             ],
             [
              0.4444444444444444,
              "#bd3786"
             ],
             [
              0.5555555555555556,
              "#d8576b"
             ],
             [
              0.6666666666666666,
              "#ed7953"
             ],
             [
              0.7777777777777778,
              "#fb9f3a"
             ],
             [
              0.8888888888888888,
              "#fdca26"
             ],
             [
              1,
              "#f0f921"
             ]
            ],
            "type": "heatmapgl"
           }
          ],
          "histogram": [
           {
            "marker": {
             "pattern": {
              "fillmode": "overlay",
              "size": 10,
              "solidity": 0.2
             }
            },
            "type": "histogram"
           }
          ],
          "histogram2d": [
           {
            "colorbar": {
             "outlinewidth": 0,
             "ticks": ""
            },
            "colorscale": [
             [
              0,
              "#0d0887"
             ],
             [
              0.1111111111111111,
              "#46039f"
             ],
             [
              0.2222222222222222,
              "#7201a8"
             ],
             [
              0.3333333333333333,
              "#9c179e"
             ],
             [
              0.4444444444444444,
              "#bd3786"
             ],
             [
              0.5555555555555556,
              "#d8576b"
             ],
             [
              0.6666666666666666,
              "#ed7953"
             ],
             [
              0.7777777777777778,
              "#fb9f3a"
             ],
             [
              0.8888888888888888,
              "#fdca26"
             ],
             [
              1,
              "#f0f921"
             ]
            ],
            "type": "histogram2d"
           }
          ],
          "histogram2dcontour": [
           {
            "colorbar": {
             "outlinewidth": 0,
             "ticks": ""
            },
            "colorscale": [
             [
              0,
              "#0d0887"
             ],
             [
              0.1111111111111111,
              "#46039f"
             ],
             [
              0.2222222222222222,
              "#7201a8"
             ],
             [
              0.3333333333333333,
              "#9c179e"
             ],
             [
              0.4444444444444444,
              "#bd3786"
             ],
             [
              0.5555555555555556,
              "#d8576b"
             ],
             [
              0.6666666666666666,
              "#ed7953"
             ],
             [
              0.7777777777777778,
              "#fb9f3a"
             ],
             [
              0.8888888888888888,
              "#fdca26"
             ],
             [
              1,
              "#f0f921"
             ]
            ],
            "type": "histogram2dcontour"
           }
          ],
          "mesh3d": [
           {
            "colorbar": {
             "outlinewidth": 0,
             "ticks": ""
            },
            "type": "mesh3d"
           }
          ],
          "parcoords": [
           {
            "line": {
             "colorbar": {
              "outlinewidth": 0,
              "ticks": ""
             }
            },
            "type": "parcoords"
           }
          ],
          "pie": [
           {
            "automargin": true,
            "type": "pie"
           }
          ],
          "scatter": [
           {
            "fillpattern": {
             "fillmode": "overlay",
             "size": 10,
             "solidity": 0.2
            },
            "type": "scatter"
           }
          ],
          "scatter3d": [
           {
            "line": {
             "colorbar": {
              "outlinewidth": 0,
              "ticks": ""
             }
            },
            "marker": {
             "colorbar": {
              "outlinewidth": 0,
              "ticks": ""
             }
            },
            "type": "scatter3d"
           }
          ],
          "scattercarpet": [
           {
            "marker": {
             "colorbar": {
              "outlinewidth": 0,
              "ticks": ""
             }
            },
            "type": "scattercarpet"
           }
          ],
          "scattergeo": [
           {
            "marker": {
             "colorbar": {
              "outlinewidth": 0,
              "ticks": ""
             }
            },
            "type": "scattergeo"
           }
          ],
          "scattergl": [
           {
            "marker": {
             "colorbar": {
              "outlinewidth": 0,
              "ticks": ""
             }
            },
            "type": "scattergl"
           }
          ],
          "scattermapbox": [
           {
            "marker": {
             "colorbar": {
              "outlinewidth": 0,
              "ticks": ""
             }
            },
            "type": "scattermapbox"
           }
          ],
          "scatterpolar": [
           {
            "marker": {
             "colorbar": {
              "outlinewidth": 0,
              "ticks": ""
             }
            },
            "type": "scatterpolar"
           }
          ],
          "scatterpolargl": [
           {
            "marker": {
             "colorbar": {
              "outlinewidth": 0,
              "ticks": ""
             }
            },
            "type": "scatterpolargl"
           }
          ],
          "scatterternary": [
           {
            "marker": {
             "colorbar": {
              "outlinewidth": 0,
              "ticks": ""
             }
            },
            "type": "scatterternary"
           }
          ],
          "surface": [
           {
            "colorbar": {
             "outlinewidth": 0,
             "ticks": ""
            },
            "colorscale": [
             [
              0,
              "#0d0887"
             ],
             [
              0.1111111111111111,
              "#46039f"
             ],
             [
              0.2222222222222222,
              "#7201a8"
             ],
             [
              0.3333333333333333,
              "#9c179e"
             ],
             [
              0.4444444444444444,
              "#bd3786"
             ],
             [
              0.5555555555555556,
              "#d8576b"
             ],
             [
              0.6666666666666666,
              "#ed7953"
             ],
             [
              0.7777777777777778,
              "#fb9f3a"
             ],
             [
              0.8888888888888888,
              "#fdca26"
             ],
             [
              1,
              "#f0f921"
             ]
            ],
            "type": "surface"
           }
          ],
          "table": [
           {
            "cells": {
             "fill": {
              "color": "#EBF0F8"
             },
             "line": {
              "color": "white"
             }
            },
            "header": {
             "fill": {
              "color": "#C8D4E3"
             },
             "line": {
              "color": "white"
             }
            },
            "type": "table"
           }
          ]
         },
         "layout": {
          "annotationdefaults": {
           "arrowcolor": "#2a3f5f",
           "arrowhead": 0,
           "arrowwidth": 1
          },
          "autotypenumbers": "strict",
          "coloraxis": {
           "colorbar": {
            "outlinewidth": 0,
            "ticks": ""
           }
          },
          "colorscale": {
           "diverging": [
            [
             0,
             "#8e0152"
            ],
            [
             0.1,
             "#c51b7d"
            ],
            [
             0.2,
             "#de77ae"
            ],
            [
             0.3,
             "#f1b6da"
            ],
            [
             0.4,
             "#fde0ef"
            ],
            [
             0.5,
             "#f7f7f7"
            ],
            [
             0.6,
             "#e6f5d0"
            ],
            [
             0.7,
             "#b8e186"
            ],
            [
             0.8,
             "#7fbc41"
            ],
            [
             0.9,
             "#4d9221"
            ],
            [
             1,
             "#276419"
            ]
           ],
           "sequential": [
            [
             0,
             "#0d0887"
            ],
            [
             0.1111111111111111,
             "#46039f"
            ],
            [
             0.2222222222222222,
             "#7201a8"
            ],
            [
             0.3333333333333333,
             "#9c179e"
            ],
            [
             0.4444444444444444,
             "#bd3786"
            ],
            [
             0.5555555555555556,
             "#d8576b"
            ],
            [
             0.6666666666666666,
             "#ed7953"
            ],
            [
             0.7777777777777778,
             "#fb9f3a"
            ],
            [
             0.8888888888888888,
             "#fdca26"
            ],
            [
             1,
             "#f0f921"
            ]
           ],
           "sequentialminus": [
            [
             0,
             "#0d0887"
            ],
            [
             0.1111111111111111,
             "#46039f"
            ],
            [
             0.2222222222222222,
             "#7201a8"
            ],
            [
             0.3333333333333333,
             "#9c179e"
            ],
            [
             0.4444444444444444,
             "#bd3786"
            ],
            [
             0.5555555555555556,
             "#d8576b"
            ],
            [
             0.6666666666666666,
             "#ed7953"
            ],
            [
             0.7777777777777778,
             "#fb9f3a"
            ],
            [
             0.8888888888888888,
             "#fdca26"
            ],
            [
             1,
             "#f0f921"
            ]
           ]
          },
          "colorway": [
           "#636efa",
           "#EF553B",
           "#00cc96",
           "#ab63fa",
           "#FFA15A",
           "#19d3f3",
           "#FF6692",
           "#B6E880",
           "#FF97FF",
           "#FECB52"
          ],
          "font": {
           "color": "#2a3f5f"
          },
          "geo": {
           "bgcolor": "white",
           "lakecolor": "white",
           "landcolor": "#E5ECF6",
           "showlakes": true,
           "showland": true,
           "subunitcolor": "white"
          },
          "hoverlabel": {
           "align": "left"
          },
          "hovermode": "closest",
          "mapbox": {
           "style": "light"
          },
          "paper_bgcolor": "white",
          "plot_bgcolor": "#E5ECF6",
          "polar": {
           "angularaxis": {
            "gridcolor": "white",
            "linecolor": "white",
            "ticks": ""
           },
           "bgcolor": "#E5ECF6",
           "radialaxis": {
            "gridcolor": "white",
            "linecolor": "white",
            "ticks": ""
           }
          },
          "scene": {
           "xaxis": {
            "backgroundcolor": "#E5ECF6",
            "gridcolor": "white",
            "gridwidth": 2,
            "linecolor": "white",
            "showbackground": true,
            "ticks": "",
            "zerolinecolor": "white"
           },
           "yaxis": {
            "backgroundcolor": "#E5ECF6",
            "gridcolor": "white",
            "gridwidth": 2,
            "linecolor": "white",
            "showbackground": true,
            "ticks": "",
            "zerolinecolor": "white"
           },
           "zaxis": {
            "backgroundcolor": "#E5ECF6",
            "gridcolor": "white",
            "gridwidth": 2,
            "linecolor": "white",
            "showbackground": true,
            "ticks": "",
            "zerolinecolor": "white"
           }
          },
          "shapedefaults": {
           "line": {
            "color": "#2a3f5f"
           }
          },
          "ternary": {
           "aaxis": {
            "gridcolor": "white",
            "linecolor": "white",
            "ticks": ""
           },
           "baxis": {
            "gridcolor": "white",
            "linecolor": "white",
            "ticks": ""
           },
           "bgcolor": "#E5ECF6",
           "caxis": {
            "gridcolor": "white",
            "linecolor": "white",
            "ticks": ""
           }
          },
          "title": {
           "x": 0.05
          },
          "xaxis": {
           "automargin": true,
           "gridcolor": "white",
           "linecolor": "white",
           "ticks": "",
           "title": {
            "standoff": 15
           },
           "zerolinecolor": "white",
           "zerolinewidth": 2
          },
          "yaxis": {
           "automargin": true,
           "gridcolor": "white",
           "linecolor": "white",
           "ticks": "",
           "title": {
            "standoff": 15
           },
           "zerolinecolor": "white",
           "zerolinewidth": 2
          }
         }
        },
        "xaxis": {
         "autorange": true,
         "range": [
          -0.3049257232212666,
          5.304925723221267
         ],
         "type": "linear"
        },
        "yaxis": {
         "autorange": true,
         "range": [
          -272.19134936286406,
          229.32489428473906
         ]
        }
       }
      },
      "image/png": "[encoded data removed]"
     },
     "metadata": {},
     "output_type": "display_data"
    }
   ],
   "source": [
    "import plotly.graph_objects as go\n",
    "import plotly.io as pio\n",
    "\n",
    "pio.renderers.default = 'vscode'\n",
    "\n",
    "y_pred = y_pred.tolist()\n",
    "y_true = y_true.tolist()\n",
    "fig = go.Figure()\n",
    "\n",
    "fig.add_trace(go.Scatter(x=index, y=y_pred, name='predicted',\n",
    "                         line=dict(color='red', width=2)))\n",
    "fig.add_trace(go.Scatter(x=index, y=y_true, name='actual',\n",
    "                         line=dict(color='blue', width=2)))\n",
    "fig.show()"
   ]
  }
 ],
 "metadata": {
  "interpreter": {
   "hash": "983579c8409ce3112a7c656202565d438b4c07291c082ef6e245940d174d809a"
  },
  "kernelspec": {
   "display_name": "Python 3 (ipykernel)",
   "language": "python",
   "name": "python3"
  },
  "language_info": {
   "codemirror_mode": {
    "name": "ipython",
    "version": 3
   },
   "file_extension": ".py",
   "mimetype": "text/x-python",
   "name": "python",
   "nbconvert_exporter": "python",
   "pygments_lexer": "ipython3",
   "version": "3.8.13"
  }
 },
 "nbformat": 4,
 "nbformat_minor": 5
}
